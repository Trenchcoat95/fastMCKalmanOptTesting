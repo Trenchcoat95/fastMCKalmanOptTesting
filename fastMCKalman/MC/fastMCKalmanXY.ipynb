{
 "cells": [
  {
   "cell_type": "code",
   "execution_count": 24,
   "id": "ethical-summit",
   "metadata": {},
   "outputs": [],
   "source": [
    "import numpy as np\n",
    "from array import array\n",
    "import os\n",
    "import sys\n",
    "import ROOT\n",
    "from ROOT import TVectorD, TMatrix, TMath, TVector3, TGraphErrors, TFile, TTree, gRandom, gPad, gROOT, gVirtualX, kTRUE, kRed, TProfile, gStyle,  TFile, gSystem\n",
    "from fastSimulation import *"
   ]
  },
  {
   "cell_type": "markdown",
   "id": "f1e087ee",
   "metadata": {},
   "source": [
    "# Reading the files"
   ]
  },
  {
   "cell_type": "code",
   "execution_count": 25,
   "id": "toxic-celebration",
   "metadata": {},
   "outputs": [
    {
     "name": "stdout",
     "output_type": "stream",
     "text": [
      "Number of entries\t1\n",
      "0\t0\t/home/federico/Documents/Universita/Federico_2020-2021/Aliwork/fastMCKalmanOptTesting/data/testTPCVSGarlite/MC_01smear_Eloss_MS_Seed_Eloss_MS_Kalman_Eloss_MS/MC_01smear_Eloss_MS_Seed_Eloss_MS_Kalman_Eloss_MS.root\n",
      "Number of entries\t1\n",
      "0\t0\t/home/federico/Documents/Universita/Federico_2020-2021/Aliwork/fastMCKalmanOptTesting/data/testTPCVSGarlite/MC_01smear_Eloss_MS_Seed_Eloss_MS_Kalman_Eloss_MS/MC_01smear_Eloss_MS_Seed_Eloss_MS_Kalman_Eloss_MS.root\n",
      "Number of entries\t1\n",
      "0\t0\t/home/federico/Documents/Universita/Federico_2020-2021/Aliwork/fastMCKalmanOptTesting/data/testTPCVSGarlite/MC_01smear_Eloss_MS_Seed_Eloss_MS_Kalman_Eloss_MS/MC_01smear_Eloss_MS_Seed_Eloss_MS_Kalman_Eloss_MS.root\n",
      "Number of entries\t1\n",
      "0\t0\t/home/federico/Documents/Universita/Federico_2020-2021/Aliwork/fastMCKalmanOptTesting/data/testTPCVSGarlite/MC_01smear_Eloss_MS_Seed_Eloss_MS_Kalman_Eloss_MS/MC_01smear_Eloss_MS_Seed_Eloss_MS_Kalman_Eloss_MS.root\n"
     ]
    }
   ],
   "source": [
    "folder=\"${fastMCKalmanOptTesting}/data/testTPCVSGarlite/MC_01smear_Eloss_MS_Seed_Eloss_MS_Kalman_Eloss_MS/\"\n",
    "#folder=\"/home/federico/Documents/Universita/Federico_2020-2021/Aliwork/fastMCKalman/data/testTPCSA/\"\n",
    "inputData = folder+\"fastParticle.list\"\n",
    "ROOT.initTreeFast(inputData)\n",
    "tree=ROOT.treeFast\n",
    "treeSeed = ROOT.treeSeed\n"
   ]
  },
  {
   "cell_type": "code",
   "execution_count": 26,
   "id": "912f5314",
   "metadata": {},
   "outputs": [
    {
     "name": "stderr",
     "output_type": "stream",
     "text": [
      "Warning in <TROOT::Append>: Replacing existing TH1: hdist (Potential memory leak).\n",
      "Warning in <TCanvas::Constructor>: Deleting canvas with same name: myCanvasNamep\n"
     ]
    },
    {
     "data": {
      "image/png": "[encoded data removed]",
      "text/plain": [
       "<IPython.core.display.Image object>"
      ]
     },
     "metadata": {},
     "output_type": "display_data"
    }
   ],
   "source": [
    "hdist = ROOT.TH2D(\"hdist\",\"hdist\",150,150,400,100,-1,1)\n",
    "\n",
    "for iev in range(tree.GetEntries()):\n",
    "    tree.GetEntry(iev)\n",
    "    #print(\"entry number: \",str(iev))\n",
    "    if (tree.part.fStatusMaskIn[1]!=31 or tree.part.fParamMC.size()==0): continue\n",
    "\n",
    "    xyz_st = [tree.part.fParamMC[1].GetX(),tree.part.fParamMC[1].GetParameter()[0],tree.part.fParamMC[1].GetParameter()[1]]\n",
    "    alpha_st = tree.part.fParamMC[1].GetAlpha()\n",
    "    xyz_gl_st = [xyz_st[0]*np.cos(alpha_st)-xyz_st[1]*np.sin(alpha_st), xyz_st[0]*np.sin(alpha_st)+xyz_st[1]*np.cos(alpha_st), xyz_st[2]]\n",
    "    x_g = xyz_gl_st[0]\n",
    "    y_g = xyz_gl_st[1]\n",
    "    length=0\n",
    "\n",
    "    \n",
    "\n",
    "    for i in range(2,tree.part.fParamMC.size()-1):\n",
    "        xyz = [tree.part.fParamMC[i].GetX(),tree.part.fParamMC[i].GetParameter()[0],tree.part.fParamMC[i].GetParameter()[1]]\n",
    "        alpha = tree.part.fParamMC[i].GetAlpha()\n",
    "        xyz_gl = [xyz[0]*np.cos(alpha)-xyz[1]*np.sin(alpha), xyz[0]*np.sin(alpha)+xyz[1]*np.cos(alpha), xyz[2]]\n",
    "        d = np.sqrt(np.square(xyz_gl[0]-xyz_gl_st[0])+np.square(xyz_gl[1]-xyz_gl_st[1])+np.square(xyz_gl[2]-xyz_gl_st[2]))\n",
    "        length=length+d\n",
    "        #print(xyz,alpha,length)\n",
    "        #if(np.abs(xyz[0])==250 or tree.part.fLoop[i]==1): break\n",
    "        if(tree.part.fLoop[i]==1): break\n",
    "        xyz_gl_st=xyz_gl\n",
    "        alpha_st=alpha\n",
    "    \n",
    "    res=(tree.part.fParamMC[1].GetP()-tree.part.fParamIn[1].GetP())/tree.part.fParamMC[1].GetP()\n",
    "    if (length!=0): hdist.Fill(length,res)\n",
    "\n",
    "cp = ROOT.TCanvas(\"myCanvasNamep\",\"The Canvas Titlep\",800,600)\n",
    "hdist.Draw(\"COLZ\")\n",
    "cp.Draw()\n",
    "\n",
    "        \n",
    "        "
   ]
  },
  {
   "cell_type": "code",
   "execution_count": 27,
   "id": "86e83da8",
   "metadata": {},
   "outputs": [
    {
     "name": "stdout",
     "output_type": "stream",
     "text": [
      "0 18\n",
      "18 37\n",
      "37 56\n",
      "56 75\n",
      "75 93\n",
      "93 112\n",
      "112 131\n",
      "131 150\n",
      " FCN=6.38164 FROM MIGRAD    STATUS=CONVERGED      74 CALLS          75 TOTAL\n",
      "                     EDM=2.00795e-09    STRATEGY= 1      ERROR MATRIX ACCURATE \n",
      "  EXT PARAMETER                                   STEP         FIRST   \n",
      "  NO.   NAME      VALUE            ERROR          SIZE      DERIVATIVE \n",
      "   1  Constant     6.74617e+00   1.71352e+00   1.67326e-03   2.69734e-05\n",
      "   2  Mean         6.43838e-03   8.78721e-03   1.00646e-05  -3.42520e-03\n",
      "   3  Sigma        3.55123e-02   7.82668e-03   6.97805e-05   1.19885e-03\n",
      " FCN=8.66693 FROM MIGRAD    STATUS=CONVERGED      61 CALLS          62 TOTAL\n",
      "                     EDM=1.65419e-08    STRATEGY= 1      ERROR MATRIX ACCURATE \n",
      "  EXT PARAMETER                                   STEP         FIRST   \n",
      "  NO.   NAME      VALUE            ERROR          SIZE      DERIVATIVE \n",
      "   1  Constant     1.81767e+02   9.04984e+00   1.09220e-02  -2.05158e-05\n",
      "   2  Mean         3.06383e-03   1.12608e-03   1.68669e-06   2.30731e-02\n",
      "   3  Sigma        2.80261e-02   8.48715e-04   1.19453e-05  -2.11955e-02\n",
      " FCN=7.23183 FROM MIGRAD    STATUS=CONVERGED      53 CALLS          54 TOTAL\n",
      "                     EDM=3.62581e-07    STRATEGY= 1      ERROR MATRIX ACCURATE \n",
      "  EXT PARAMETER                                   STEP         FIRST   \n",
      "  NO.   NAME      VALUE            ERROR          SIZE      DERIVATIVE \n",
      "   1  Constant     4.68199e+02   1.52990e+01   1.71903e-02  -2.06534e-05\n",
      "   2  Mean        -3.15323e-04   6.58102e-04   9.14136e-07  -1.23134e+00\n",
      "   3  Sigma        2.48200e-02   4.87053e-04   7.28864e-06  -6.38723e-02\n",
      " FCN=6.59144 FROM MIGRAD    STATUS=CONVERGED      61 CALLS          62 TOTAL\n",
      "                     EDM=3.21154e-10    STRATEGY= 1      ERROR MATRIX ACCURATE \n",
      "  EXT PARAMETER                                   STEP         FIRST   \n",
      "  NO.   NAME      VALUE            ERROR          SIZE      DERIVATIVE \n",
      "   1  Constant     6.16147e+02   1.85764e+01   2.04977e-02  -7.74833e-07\n",
      "   2  Mean         1.58128e-03   5.30622e-04   7.05202e-07   4.33456e-03\n",
      "   3  Sigma        2.11799e-02   3.65876e-04   6.28844e-06  -5.25367e-03\n",
      " FCN=1.51319 FROM MIGRAD    STATUS=CONVERGED      61 CALLS          62 TOTAL\n",
      "                     EDM=5.12246e-09    STRATEGY= 1      ERROR MATRIX ACCURATE \n",
      "  EXT PARAMETER                                   STEP         FIRST   \n",
      "  NO.   NAME      VALUE            ERROR          SIZE      DERIVATIVE \n",
      "   1  Constant     7.10976e+02   2.07752e+01   1.31353e-02   5.73359e-06\n",
      "   2  Mean         2.18731e-04   4.72865e-04   3.65874e-07  -2.10613e-02\n",
      "   3  Sigma        1.97153e-02   3.35340e-04   3.59095e-06   1.66144e-02\n",
      " FCN=3.10019 FROM MIGRAD    STATUS=CONVERGED      63 CALLS          64 TOTAL\n",
      "                     EDM=9.58056e-08    STRATEGY= 1      ERROR MATRIX ACCURATE \n",
      "  EXT PARAMETER                                   STEP         FIRST   \n",
      "  NO.   NAME      VALUE            ERROR          SIZE      DERIVATIVE \n",
      "   1  Constant     1.78836e+03   3.53377e+01   2.80169e-02   1.38680e-05\n",
      "   2  Mean        -1.48922e-04   2.81802e-04   2.78424e-07  -6.45611e-01\n",
      "   3  Sigma        1.77700e-02   2.09790e-04   3.11614e-06   8.89624e-02\n",
      " FCN=1.06374 FROM MIGRAD    STATUS=CONVERGED      61 CALLS          62 TOTAL\n",
      "                     EDM=5.4755e-09    STRATEGY= 1      ERROR MATRIX ACCURATE \n",
      "  EXT PARAMETER                                   STEP         FIRST   \n",
      "  NO.   NAME      VALUE            ERROR          SIZE      DERIVATIVE \n",
      "   1  Constant     4.64482e+02   1.82481e+01   1.02320e-02   6.80137e-06\n",
      "   2  Mean         7.03967e-04   5.48439e-04   3.84638e-07  -5.06429e-02\n",
      "   3  Sigma        1.74224e-02   4.13049e-04   4.43047e-06   1.18257e-02\n",
      " FCN=1.42915e-13 FROM HESSE     STATUS=NOT POSDEF     16 CALLS          65 TOTAL\n",
      "                     EDM=2.85517e-13    STRATEGY= 1      ERR MATRIX NOT POS-DEF\n",
      "  EXT PARAMETER                APPROXIMATE        STEP         FIRST   \n",
      "  NO.   NAME      VALUE            ERROR          SIZE      DERIVATIVE \n",
      "   1  Constant     1.49893e+00   1.67666e+01   1.03569e-04   7.13353e-07\n",
      "   2  Mean        -2.00000e-02   2.61783e-02   5.11885e-07  -3.59489e-14\n",
      "   3  Sigma        3.33437e-02   2.44671e-01   6.02053e-06   2.44768e-06\n"
     ]
    },
    {
     "name": "stderr",
     "output_type": "stream",
     "text": [
      "Warning in <TCanvas::Constructor>: Deleting canvas with same name: hq\n"
     ]
    },
    {
     "data": {
      "image/png": "[encoded data removed]",
      "text/plain": [
       "<IPython.core.display.Image object>"
      ]
     },
     "metadata": {},
     "output_type": "display_data"
    }
   ],
   "source": [
    "x = array('d')\n",
    "y = array('d')\n",
    "ex = array('d')\n",
    "ey = array('d')\n",
    "npoints = 8\n",
    "\n",
    "for d in range(0,npoints):\n",
    "     low = int((d)*hdist.GetNbinsX()/npoints)\n",
    "     high = int((d+1)*hdist.GetNbinsX()/npoints)\n",
    "     lowloc = hdist.GetXaxis().GetBinLowEdge(low)\n",
    "     highloc = hdist.GetXaxis().GetBinLowEdge(high+1)\n",
    "     print(low,high)\n",
    "     histo = hdist.ProjectionY(\"histoproj_\"+str(d),low,high)\n",
    "     fun = ROOT.TF1(\"f_\"+str(d),\"gaus\")\n",
    "     histo.Fit(\"f_\"+str(d))\n",
    "     y.append(fun.GetParameter(2))\n",
    "     ey.append(fun.GetParError(2))\n",
    "     x.append((lowloc+highloc)/2)\n",
    "     ex.append(np.abs(lowloc-highloc)/2)\n",
    "\n",
    "graph = ROOT.TGraphErrors(len(x),x,y,ex,ey)\n",
    "\n",
    "\n",
    "hq = ROOT.TCanvas(\"hq\",\"hq\",800,600)\n",
    "hq.SetGrid()\n",
    "hq.SetLogy()\n",
    "graph.SetTitle(\"Resolution as function of length;Track Length [cm];#sigma(#Delta(p)/p)\")\n",
    "graph.SetMarkerColor(4)\n",
    "graph.SetMarkerSize(1)\n",
    "graph.SetMarkerStyle(21)         \n",
    "#graph.GetHistogram().SetMinimum(0.00)  #   Y\n",
    "graph.Draw(\"AP\")\n",
    "hq.Draw()\n"
   ]
  }
 ],
 "metadata": {
  "kernelspec": {
   "display_name": "Python 3.8.10 64-bit",
   "language": "python",
   "name": "python3"
  },
  "language_info": {
   "codemirror_mode": {
    "name": "ipython",
    "version": 3
   },
   "file_extension": ".py",
   "mimetype": "text/x-python",
   "name": "python",
   "nbconvert_exporter": "python",
   "pygments_lexer": "ipython3",
   "version": "3.8.10"
  },
  "vscode": {
   "interpreter": {
    "hash": "916dbcbb3f70747c44a77c7bcd40155683ae19c65e1c03b4aa3499c5328201f1"
   }
  }
 },
 "nbformat": 4,
 "nbformat_minor": 5
}
