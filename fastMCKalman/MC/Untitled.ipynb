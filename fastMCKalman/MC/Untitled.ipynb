{
 "cells": [
  {
   "cell_type": "code",
   "execution_count": 1,
   "id": "conceptual-truth",
   "metadata": {},
   "outputs": [
    {
     "name": "stdout",
     "output_type": "stream",
     "text": [
      "Welcome to JupyROOT 6.20/08\n",
      "x bokehVisJS3DGraph.ts\n",
      "x HistogramCDS.ts\n",
      "x Histo2dCDS.ts\n",
      "Import  CDSCompress.ts\n"
     ]
    },
    {
     "name": "stderr",
     "output_type": "stream",
     "text": [
      "/usr/local/lib/python3.6/dist-packages/sklearn/utils/deprecation.py:143: FutureWarning: The sklearn.ensemble.forest module is  deprecated in version 0.22 and will be removed in version 0.24. The corresponding classes / functions should instead be imported from sklearn.ensemble. Anything that cannot be imported from sklearn.ensemble is now part of the private API.\n",
      "  warnings.warn(message, FutureWarning)\n"
     ]
    }
   ],
   "source": [
    "from bokeh.io import output_notebook\n",
    "from RootInteractive.Tools.aliTreePlayer import *\n",
    "from RootInteractive.InteractiveDrawing.bokeh.bokehDrawSA import *\n",
    "from RootInteractive.Tools.aliTreePlayer import *\n",
    "from bokeh.io import curdoc\n",
    "import numpy as np\n",
    "import os\n",
    "import sys\n",
    "from ROOT import TFile, gSystem\n",
    "from RootInteractive.InteractiveDrawing.bokeh.bokehDrawSA import *\n",
    "from RootInteractive.MLpipeline.NDFunctionInterface import  DataContainer, Fitter, RandomForest\n",
    "import plotly.express as px\n",
    "import time\n",
    "import pickle\n",
    "from IPython.display import Image, clear_output\n",
    "from RootInteractive.InteractiveDrawing.bokeh.CDSCompress import *\n",
    "#\n",
    "from fastSimulation import *"
   ]
  },
  {
   "cell_type": "code",
   "execution_count": 3,
   "id": "amateur-macedonia",
   "metadata": {},
   "outputs": [
    {
     "name": "stdout",
     "output_type": "stream",
     "text": [
      "Number of entries\t1\n",
      "0\t0\t/home/federico/Documents/Universita/Federico_2020-2021/Aliwork/fastMCKalman/data/testTPCSA/fastParticle.root\n",
      "Number of entries\t1\n",
      "0\t0\t/home/federico/Documents/Universita/Federico_2020-2021/Aliwork/fastMCKalman/data/testTPCSA/fastParticle.root\n",
      "Number of entries\t1\n",
      "0\t0\t/home/federico/Documents/Universita/Federico_2020-2021/Aliwork/fastMCKalman/data/testTPCSA/fastParticle.root\n",
      "Number of entries\t1\n",
      "0\t0\t/home/federico/Documents/Universita/Federico_2020-2021/Aliwork/fastMCKalman/data/testTPCSA/fastParticle.root\n"
     ]
    },
    {
     "name": "stderr",
     "output_type": "stream",
     "text": [
      "Warning in <TClassTable::Add>: class ROOT::VecOps::RVec<int> already in TClassTable\n",
      "Warning in <TClassTable::Add>: class ROOT::VecOps::RVec<float> already in TClassTable\n"
     ]
    }
   ],
   "source": [
    "inputData = \"${fastMCKalman}/data/testTPCSA/fastParticle.list\"\n",
    "ROOT.initTreeFast(inputData)\n",
    "tree=ROOT.treeFast"
   ]
  },
  {
   "cell_type": "code",
   "execution_count": 5,
   "id": "unsigned-prayer",
   "metadata": {},
   "outputs": [
    {
     "data": {
      "text/plain": [
       "True"
      ]
     },
     "execution_count": 5,
     "metadata": {},
     "output_type": "execute_result"
    }
   ],
   "source": [
    "tree.SetMarkerStyle(25)\n",
    "tree.SetMarkerSize(0.5)\n",
    "ROOT.setAliases(tree)\n",
    "tree.SetAlias(\"p0MC\",\"part.fParamMC[0].fP[0]\")\n",
    "tree.SetAlias(\"p0In\",\"part.fParamIn[1].fP[0]\")\n",
    "tree.SetAlias(\"p1MC\",\"part.fParamMC[0].fP[1]\")\n",
    "tree.SetAlias(\"p1In\",\"part.fParamIn[1].fP[1]\")\n",
    "tree.SetAlias(\"p2MC\",\"part.fParamMC[0].fP[2]\")\n",
    "tree.SetAlias(\"p2In\",\"part.fParamIn[1].fP[2]\")\n",
    "tree.SetAlias(\"p3MC\",\"part.fParamMC[0].fP[3]\")\n",
    "tree.SetAlias(\"p3In\",\"part.fParamIn[1].fP[3]\")\n",
    "tree.SetAlias(\"p4MC\",\"part.fParamMC[0].fP[4]\")\n",
    "tree.SetAlias(\"p4In\",\"part.fParamIn[1].fP[4]\")"
   ]
  },
  {
   "cell_type": "code",
   "execution_count": null,
   "id": "empirical-playback",
   "metadata": {},
   "outputs": [],
   "source": []
  }
 ],
 "metadata": {
  "kernelspec": {
   "display_name": "Python 3",
   "language": "python",
   "name": "python3"
  },
  "language_info": {
   "codemirror_mode": {
    "name": "ipython",
    "version": 3
   },
   "file_extension": ".py",
   "mimetype": "text/x-python",
   "name": "python",
   "nbconvert_exporter": "python",
   "pygments_lexer": "ipython3",
   "version": "3.6.9"
  }
 },
 "nbformat": 4,
 "nbformat_minor": 5
}
