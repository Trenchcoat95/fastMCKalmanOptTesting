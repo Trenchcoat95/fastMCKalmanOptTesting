{
 "cells": [
  {
   "cell_type": "code",
   "execution_count": 3,
   "id": "ethical-summit",
   "metadata": {},
   "outputs": [],
   "source": [
    "import numpy as np\n",
    "from array import array\n",
    "import os\n",
    "import sys\n",
    "import ROOT\n",
    "from ROOT import TVectorD, TMatrix, TMath, TVector3, TGraphErrors, TFile, TTree, gRandom, gPad, gROOT, gVirtualX, kTRUE, kRed, TProfile, gStyle,  TFile, gSystem\n",
    "from fastSimulation import *"
   ]
  },
  {
   "cell_type": "markdown",
   "id": "f1e087ee",
   "metadata": {},
   "source": [
    "# Reading the files"
   ]
  },
  {
   "cell_type": "code",
   "execution_count": 4,
   "id": "toxic-celebration",
   "metadata": {},
   "outputs": [
    {
     "name": "stdout",
     "output_type": "stream",
     "text": [
      "Number of entries\t1\n",
      "0\t0\t/home/federico/Documents/Universita/Federico_2020-2021/Aliwork/fastMCKalmanOptTesting/data/testTPCmuons/fixedpt20/MC_01smear_Eloss_MS_Seed_Eloss_MS_Kalman_Eloss_MS/MC_01smear_Eloss_MS_Seed_Eloss_MS_Kalman_Eloss_MS.root\n",
      "Number of entries\t1\n",
      "0\t0\t/home/federico/Documents/Universita/Federico_2020-2021/Aliwork/fastMCKalmanOptTesting/data/testTPCmuons/fixedpt20/MC_01smear_Eloss_MS_Seed_Eloss_MS_Kalman_Eloss_MS/MC_01smear_Eloss_MS_Seed_Eloss_MS_Kalman_Eloss_MS.root\n",
      "Number of entries\t1\n",
      "0\t0\t/home/federico/Documents/Universita/Federico_2020-2021/Aliwork/fastMCKalmanOptTesting/data/testTPCmuons/fixedpt20/MC_01smear_Eloss_MS_Seed_Eloss_MS_Kalman_Eloss_MS/MC_01smear_Eloss_MS_Seed_Eloss_MS_Kalman_Eloss_MS.root\n",
      "Number of entries\t1\n",
      "0\t0\t/home/federico/Documents/Universita/Federico_2020-2021/Aliwork/fastMCKalmanOptTesting/data/testTPCmuons/fixedpt20/MC_01smear_Eloss_MS_Seed_Eloss_MS_Kalman_Eloss_MS/MC_01smear_Eloss_MS_Seed_Eloss_MS_Kalman_Eloss_MS.root\n"
     ]
    }
   ],
   "source": [
    "folder=\"${fastMCKalmanOptTesting}/data/testTPCmuons/fixedpt20/MC_01smear_Eloss_MS_Seed_Eloss_MS_Kalman_Eloss_MS/\"\n",
    "#folder=\"/home/federico/Documents/Universita/Federico_2020-2021/Aliwork/fastMCKalman/data/testTPCSA/\"\n",
    "inputData = folder+\"fastParticle.list\"\n",
    "ROOT.initTreeFast(inputData)\n",
    "tree=ROOT.treeFast\n",
    "treeSeed = ROOT.treeSeed\n"
   ]
  },
  {
   "cell_type": "code",
   "execution_count": 8,
   "id": "912f5314",
   "metadata": {},
   "outputs": [
    {
     "name": "stderr",
     "output_type": "stream",
     "text": [
      "Warning in <TROOT::Append>: Replacing existing TH1: hdist (Potential memory leak).\n",
      "Warning in <TCanvas::Constructor>: Deleting canvas with same name: myCanvasNamep\n"
     ]
    },
    {
     "data": {
      "image/png": "[encoded data removed]",
      "text/plain": [
       "<IPython.core.display.Image object>"
      ]
     },
     "metadata": {},
     "output_type": "display_data"
    }
   ],
   "source": [
    "hdist = ROOT.TH2D(\"hdist\",\"hdist\",100,0,400,100,-1,1)\n",
    "\n",
    "for iev in range(tree.GetEntries()):\n",
    "    tree.GetEntry(iev)\n",
    "    #print(\"entry number: \",str(iev))\n",
    "    if (tree.part.fStatusMaskIn[1]!=31 or tree.part.fParamMC.size()==0): continue\n",
    "\n",
    "    xyz_st = [tree.part.fParamMC[1].GetX(),tree.part.fParamMC[1].GetParameter()[0],tree.part.fParamMC[1].GetParameter()[1]]\n",
    "    alpha_st = tree.part.fParamMC[1].GetAlpha()\n",
    "    xyz_gl_st = [xyz_st[0]*np.cos(alpha_st)-xyz_st[1]*np.sin(alpha_st), xyz_st[0]*np.sin(alpha_st)+xyz_st[1]*np.cos(alpha_st), xyz_st[2]]\n",
    "    x_g = xyz_gl_st[0]\n",
    "    y_g = xyz_gl_st[1]\n",
    "    length=0\n",
    "\n",
    "    \n",
    "\n",
    "    for i in range(2,tree.part.fParamMC.size()):\n",
    "        xyz = [tree.part.fParamMC[i].GetX(),tree.part.fParamMC[i].GetParameter()[0],tree.part.fParamMC[i].GetParameter()[1]]\n",
    "        alpha = tree.part.fParamMC[i].GetAlpha()\n",
    "        xyz_gl = [xyz[0]*np.cos(alpha)-xyz[1]*np.sin(alpha), xyz[0]*np.sin(alpha)+xyz[1]*np.cos(alpha), xyz[2]]\n",
    "        d = np.sqrt(np.square(xyz_gl[0]-xyz_gl_st[0])+np.square(xyz_gl[1]-xyz_gl_st[1])+np.square(xyz_gl[2]-xyz_gl_st[2]))\n",
    "        length=length+d\n",
    "        #print(xyz,alpha,length)\n",
    "        if(np.abs(xyz[0])==250 or tree.part.fLoop[i]==1): break\n",
    "        xyz_gl_st=xyz_gl\n",
    "        alpha_st=alpha\n",
    "    \n",
    "    res=(tree.part.fParamMC[1].GetP()-tree.part.fParamIn[1].GetP())/tree.part.fParamMC[1].GetP()\n",
    "    hdist.Fill(length,res)\n",
    "\n",
    "cp = ROOT.TCanvas(\"myCanvasNamep\",\"The Canvas Titlep\",800,600)\n",
    "hdist.Draw(\"COLZ\")\n",
    "cp.Draw()\n",
    "\n",
    "        \n",
    "        "
   ]
  },
  {
   "cell_type": "code",
   "execution_count": 11,
   "id": "86e83da8",
   "metadata": {},
   "outputs": [
    {
     "name": "stdout",
     "output_type": "stream",
     "text": [
      " FCN=297 FROM HESSE     STATUS=FAILED         11 CALLS          57 TOTAL\n",
      "                     EDM=0    STRATEGY= 1  ERROR MATRIX UNCERTAINTY 100.0 per cent\n",
      "  EXT PARAMETER                APPROXIMATE        STEP         FIRST   \n",
      "  NO.   NAME      VALUE            ERROR          SIZE      DERIVATIVE \n",
      "   1  Constant    -2.27414e+02   4.83817e+00  -7.80618e+00   0.00000e+00\n",
      "   2  Mean         2.96830e+00   1.41421e+00   2.48429e+00   0.00000e+00\n",
      "   3  Sigma        1.06155e-02   3.61323e+00  -7.36346e-01   0.00000e+00\n",
      " FCN=209.357 FROM MIGRAD    STATUS=CONVERGED      89 CALLS          90 TOTAL\n",
      "                     EDM=2.07028e-08    STRATEGY= 1      ERROR MATRIX ACCURATE \n",
      "  EXT PARAMETER                                   STEP         FIRST   \n",
      "  NO.   NAME      VALUE            ERROR          SIZE      DERIVATIVE \n",
      "   1  Constant     2.71719e+01   1.56050e+00   6.94470e-03   4.18551e-05\n",
      "   2  Mean         4.96927e-02   8.37741e-03   5.79959e-05   2.04254e-02\n",
      "   3  Sigma        2.25742e-01   1.01830e-02   5.31477e-05  -7.76180e-03\n",
      " FCN=281.784 FROM MIGRAD    STATUS=CONVERGED     101 CALLS         102 TOTAL\n",
      "                     EDM=7.99181e-07    STRATEGY= 1      ERROR MATRIX ACCURATE \n",
      "  EXT PARAMETER                                   STEP         FIRST   \n",
      "  NO.   NAME      VALUE            ERROR          SIZE      DERIVATIVE \n",
      "   1  Constant     1.15370e+02   5.30845e+00   2.72911e-02   1.70686e-04\n",
      "   2  Mean         1.00576e-02   2.40108e-03   1.97166e-05  -4.74431e-02\n",
      "   3  Sigma        8.33519e-02   2.98887e-03   3.66087e-05   2.56907e-01\n",
      " FCN=144.567 FROM MIGRAD    STATUS=CONVERGED     103 CALLS         104 TOTAL\n",
      "                     EDM=4.57784e-10    STRATEGY= 1      ERROR MATRIX ACCURATE \n",
      "  EXT PARAMETER                                   STEP         FIRST   \n",
      "  NO.   NAME      VALUE            ERROR          SIZE      DERIVATIVE \n",
      "   1  Constant     2.18625e+02   8.18287e+00   3.35077e-02   1.47874e-06\n",
      "   2  Mean         8.41088e-04   1.40295e-03   8.26410e-06  -1.44667e-02\n",
      "   3  Sigma        5.39197e-02   1.45031e-03   2.49923e-05   4.88331e-03\n",
      " FCN=77.5163 FROM MIGRAD    STATUS=CONVERGED      93 CALLS          94 TOTAL\n",
      "                     EDM=1.24975e-06    STRATEGY= 1      ERROR MATRIX ACCURATE \n",
      "  EXT PARAMETER                                   STEP         FIRST   \n",
      "  NO.   NAME      VALUE            ERROR          SIZE      DERIVATIVE \n",
      "   1  Constant     2.88843e+02   1.09853e+01   3.41669e-02  -5.16846e-05\n",
      "   2  Mean         2.59162e-03   1.01545e-03   4.37677e-06   1.66292e-01\n",
      "   3  Sigma        3.69485e-02   9.77539e-04   2.00774e-05  -2.93387e-01\n",
      " FCN=20.5887 FROM MIGRAD    STATUS=CONVERGED      59 CALLS          60 TOTAL\n",
      "                     EDM=5.66898e-08    STRATEGY= 1      ERROR MATRIX ACCURATE \n",
      "  EXT PARAMETER                                   STEP         FIRST   \n",
      "  NO.   NAME      VALUE            ERROR          SIZE      DERIVATIVE \n",
      "   1  Constant     2.58672e+02   1.04662e+01   1.83010e-02   2.69438e-05\n",
      "   2  Mean         6.43460e-04   1.01628e-03   2.24639e-06   1.96980e-01\n",
      "   3  Sigma        3.17256e-02   8.19352e-04   1.42284e-05   6.90737e-03\n",
      " FCN=13.8731 FROM MIGRAD    STATUS=CONVERGED      67 CALLS          68 TOTAL\n",
      "                     EDM=1.34537e-06    STRATEGY= 1      ERROR MATRIX ACCURATE \n",
      "  EXT PARAMETER                                   STEP         FIRST   \n",
      "  NO.   NAME      VALUE            ERROR          SIZE      DERIVATIVE \n",
      "   1  Constant     1.71295e+02   8.74472e+00   1.30054e-02  -3.41528e-05\n",
      "   2  Mean        -4.99938e-05   1.19243e-03   2.17918e-06  -1.29714e-01\n",
      "   3  Sigma        2.86575e-02   8.99370e-04   1.41642e-05  -1.89298e-01\n",
      " FCN=2.6357 FROM MIGRAD    STATUS=CONVERGED      52 CALLS          53 TOTAL\n",
      "                     EDM=4.14611e-07    STRATEGY= 1      ERROR MATRIX ACCURATE \n",
      "  EXT PARAMETER                                   STEP         FIRST   \n",
      "  NO.   NAME      VALUE            ERROR          SIZE      DERIVATIVE \n",
      "   1  Constant     1.13642e+02   7.14756e+00   5.31446e-03   2.69582e-06\n",
      "   2  Mean        -1.79200e-03   1.42202e-03   1.30487e-06  -6.49809e-01\n",
      "   3  Sigma        2.78358e-02   1.05750e-03   9.26150e-06  -1.00379e-02\n",
      " FCN=0.844 FROM MIGRAD    STATUS=CONVERGED      53 CALLS          54 TOTAL\n",
      "                     EDM=1.19346e-07    STRATEGY= 1      ERROR MATRIX ACCURATE \n",
      "  EXT PARAMETER                                   STEP         FIRST   \n",
      "  NO.   NAME      VALUE            ERROR          SIZE      DERIVATIVE \n",
      "   1  Constant     5.88626e+01   5.51739e+00   2.92478e-03  -1.09675e-05\n",
      "   2  Mean        -1.00962e-04   1.81924e-03   1.20598e-06  -2.35843e-01\n",
      "   3  Sigma        2.41651e-02   1.37288e-03   1.00661e-05  -1.46584e-02\n"
     ]
    }
   ],
   "source": [
    "x = []\n",
    "y = []\n",
    "ex = []\n",
    "ey = []\n",
    "npoints = 10\n",
    "\n",
    "for d in range(1,npoints):\n",
    "     low = int((d-1)*hdist.GetNbinsX()/npoints)\n",
    "     high = int((d)*hdist.GetNbinsX()/npoints)\n",
    "     lowloc = hdist.GetXaxis().GetBinLowEdge(low)\n",
    "     highloc = hdist.GetXaxis().GetBinLowEdge(high+1)\n",
    "     histo = hdist.ProjectionY(\"histoproj_\"+str(d),low,high)\n",
    "     fun = ROOT.TF1(\"f_\"+str(d),\"gaus\")\n",
    "     histo.Fit(\"f_\"+str(d))\n",
    "     y.append(fun.GetParameter(2))\n",
    "     ey.append(fun.GetParameterError(2))\n",
    "     x.append((lowloc+highloc)/2)\n",
    "     ex.append(np.abs(lowloc-highloc)/2)\n",
    "\n",
    "graph = ROOT.TGraphErrors(len(x),x,y,ex,ey)\n",
    "\n",
    "hq = ROOT.TCanvas(\"hq\",\"hq\",800,800)\n",
    "hq.SetGrid()\n",
    "hq.SetLogScaleY()\n",
    "graph.SetTitle(\"#Delta;#chi^{2} Quantiles (df=5);M-distance Quantiles\")\n",
    "graph.SetMarkerColor(4)\n",
    "graph.SetMarkerSize(1)\n",
    "graph.SetMarkerStyle(21)\n"
   ]
  }
 ],
 "metadata": {
  "kernelspec": {
   "display_name": "Python 3.8.10 64-bit",
   "language": "python",
   "name": "python3"
  },
  "language_info": {
   "codemirror_mode": {
    "name": "ipython",
    "version": 3
   },
   "file_extension": ".py",
   "mimetype": "text/x-python",
   "name": "python",
   "nbconvert_exporter": "python",
   "pygments_lexer": "ipython3",
   "version": "3.8.10"
  },
  "vscode": {
   "interpreter": {
    "hash": "916dbcbb3f70747c44a77c7bcd40155683ae19c65e1c03b4aa3499c5328201f1"
   }
  }
 },
 "nbformat": 4,
 "nbformat_minor": 5
}
