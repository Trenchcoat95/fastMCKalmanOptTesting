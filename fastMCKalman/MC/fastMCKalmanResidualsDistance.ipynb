{
 "cells": [
  {
   "cell_type": "code",
   "execution_count": 11,
   "id": "ethical-summit",
   "metadata": {},
   "outputs": [],
   "source": [
    "import numpy as np\n",
    "from array import array\n",
    "import os\n",
    "import sys\n",
    "import ROOT\n",
    "from ROOT import TVectorD, TMatrix, TMath, TVector3, TGraphErrors, TFile, TTree, gRandom, gPad, gROOT, gVirtualX, kTRUE, kRed, TProfile, gStyle,  TFile, gSystem\n",
    "from fastSimulation import *"
   ]
  },
  {
   "cell_type": "markdown",
   "id": "f1e087ee",
   "metadata": {},
   "source": [
    "# Reading the files"
   ]
  },
  {
   "cell_type": "code",
   "execution_count": 12,
   "id": "toxic-celebration",
   "metadata": {},
   "outputs": [
    {
     "name": "stdout",
     "output_type": "stream",
     "text": [
      "Number of entries\t1\n",
      "0\t0\t/home/federico/Documents/Universita/Federico_2020-2021/Aliwork/fastMCKalmanOptTesting/data/testTPCmuons/fixedpt150/MC_01smear_noEloss_noMS_Seed_noEloss_noMS_Kalman_noEloss_noMS/MC_01smear_noEloss_noMS_Seed_noEloss_noMS_Kalman_noEloss_noMS.root\n",
      "Number of entries\t1\n",
      "0\t0\t/home/federico/Documents/Universita/Federico_2020-2021/Aliwork/fastMCKalmanOptTesting/data/testTPCmuons/fixedpt150/MC_01smear_noEloss_noMS_Seed_noEloss_noMS_Kalman_noEloss_noMS/MC_01smear_noEloss_noMS_Seed_noEloss_noMS_Kalman_noEloss_noMS.root\n",
      "Number of entries\t1\n",
      "0\t0\t/home/federico/Documents/Universita/Federico_2020-2021/Aliwork/fastMCKalmanOptTesting/data/testTPCmuons/fixedpt150/MC_01smear_noEloss_noMS_Seed_noEloss_noMS_Kalman_noEloss_noMS/MC_01smear_noEloss_noMS_Seed_noEloss_noMS_Kalman_noEloss_noMS.root\n",
      "Number of entries\t1\n",
      "0\t0\t/home/federico/Documents/Universita/Federico_2020-2021/Aliwork/fastMCKalmanOptTesting/data/testTPCmuons/fixedpt150/MC_01smear_noEloss_noMS_Seed_noEloss_noMS_Kalman_noEloss_noMS/MC_01smear_noEloss_noMS_Seed_noEloss_noMS_Kalman_noEloss_noMS.root\n"
     ]
    }
   ],
   "source": [
    "folder=\"${fastMCKalmanOptTesting}/data/testTPCmuons/fixedpt150/MC_01smear_noEloss_noMS_Seed_noEloss_noMS_Kalman_noEloss_noMS/\"\n",
    "#folder=\"/home/federico/Documents/Universita/Federico_2020-2021/Aliwork/fastMCKalman/data/testTPCSA/\"\n",
    "inputData = folder+\"fastParticle.list\"\n",
    "ROOT.initTreeFast(inputData)\n",
    "tree=ROOT.treeFast\n",
    "treeSeed = ROOT.treeSeed\n"
   ]
  },
  {
   "cell_type": "code",
   "execution_count": 13,
   "id": "912f5314",
   "metadata": {},
   "outputs": [
    {
     "name": "stderr",
     "output_type": "stream",
     "text": [
      "Warning in <TROOT::Append>: Replacing existing TH1: hdist (Potential memory leak).\n",
      "Warning in <TCanvas::Constructor>: Deleting canvas with same name: myCanvasNamep\n"
     ]
    },
    {
     "data": {
      "image/png": "[encoded data removed]",
      "text/plain": [
       "<IPython.core.display.Image object>"
      ]
     },
     "metadata": {},
     "output_type": "display_data"
    }
   ],
   "source": [
    "hdist = ROOT.TH2D(\"hdist\",\"hdist\",100,0,400,100,-1,1)\n",
    "\n",
    "for iev in range(tree.GetEntries()):\n",
    "    tree.GetEntry(iev)\n",
    "    #print(\"entry number: \",str(iev))\n",
    "    if (tree.part.fStatusMaskIn[1]!=31 or tree.part.fParamMC.size()==0): continue\n",
    "\n",
    "    xyz_st = [tree.part.fParamMC[1].GetX(),tree.part.fParamMC[1].GetParameter()[0],tree.part.fParamMC[1].GetParameter()[1]]\n",
    "    alpha_st = tree.part.fParamMC[1].GetAlpha()\n",
    "    xyz_gl_st = [xyz_st[0]*np.cos(alpha_st)-xyz_st[1]*np.sin(alpha_st), xyz_st[0]*np.sin(alpha_st)+xyz_st[1]*np.cos(alpha_st), xyz_st[2]]\n",
    "    x_g = xyz_gl_st[0]\n",
    "    y_g = xyz_gl_st[1]\n",
    "    length=0\n",
    "\n",
    "    \n",
    "\n",
    "    for i in range(2,tree.part.fParamMC.size()-1):\n",
    "        xyz = [tree.part.fParamMC[i].GetX(),tree.part.fParamMC[i].GetParameter()[0],tree.part.fParamMC[i].GetParameter()[1]]\n",
    "        alpha = tree.part.fParamMC[i].GetAlpha()\n",
    "        xyz_gl = [xyz[0]*np.cos(alpha)-xyz[1]*np.sin(alpha), xyz[0]*np.sin(alpha)+xyz[1]*np.cos(alpha), xyz[2]]\n",
    "        d = np.sqrt(np.square(xyz_gl[0]-xyz_gl_st[0])+np.square(xyz_gl[1]-xyz_gl_st[1])+np.square(xyz_gl[2]-xyz_gl_st[2]))\n",
    "        length=length+d\n",
    "        #print(xyz,alpha,length)\n",
    "        if(np.abs(xyz[0])==250 or tree.part.fLoop[i]==1): break\n",
    "        xyz_gl_st=xyz_gl\n",
    "        alpha_st=alpha\n",
    "    \n",
    "    res=(tree.part.fParamMC[1].GetP()-tree.part.fParamIn[1].GetP())/tree.part.fParamMC[1].GetP()\n",
    "    if (length!=0): hdist.Fill(length,res)\n",
    "\n",
    "cp = ROOT.TCanvas(\"myCanvasNamep\",\"The Canvas Titlep\",800,600)\n",
    "hdist.Draw(\"COLZ\")\n",
    "cp.Draw()\n",
    "\n",
    "        \n",
    "        "
   ]
  },
  {
   "cell_type": "code",
   "execution_count": 15,
   "id": "86e83da8",
   "metadata": {},
   "outputs": [
    {
     "name": "stdout",
     "output_type": "stream",
     "text": [
      "0 12\n",
      "12 25\n",
      "25 37\n",
      "37 50\n",
      "50 62\n",
      "62 75\n",
      "75 87\n",
      "87 100\n",
      " FCN=134.58 FROM MIGRAD    STATUS=CONVERGED     127 CALLS         128 TOTAL\n",
      "                     EDM=2.3467e-08    STRATEGY= 1      ERROR MATRIX ACCURATE \n",
      "  EXT PARAMETER                                   STEP         FIRST   \n",
      "  NO.   NAME      VALUE            ERROR          SIZE      DERIVATIVE \n",
      "   1  Constant     8.74538e+00   8.34440e-01   2.14289e-03   4.65076e-04\n",
      "   2  Mean         8.65919e-01   3.32952e-01   3.10249e-04  -1.03748e-03\n",
      "   3  Sigma        9.68657e-01   2.11542e-01   1.27384e-04   8.54966e-04\n",
      " FCN=380.897 FROM MIGRAD    STATUS=CONVERGED     104 CALLS         105 TOTAL\n",
      "                     EDM=2.69925e-09    STRATEGY= 1      ERROR MATRIX ACCURATE \n",
      "  EXT PARAMETER                                   STEP         FIRST   \n",
      "  NO.   NAME      VALUE            ERROR          SIZE      DERIVATIVE \n",
      "   1  Constant     1.39288e+02   5.81871e+00   3.31220e-02  -1.16649e-05\n",
      "   2  Mean         2.73000e-03   2.30351e-03   2.19333e-05   2.52823e-02\n",
      "   3  Sigma        9.22315e-02   3.09045e-03   3.86575e-05  -4.58208e-03\n",
      " FCN=185.205 FROM MIGRAD    STATUS=CONVERGED     107 CALLS         108 TOTAL\n",
      "                     EDM=5.50409e-07    STRATEGY= 1      ERROR MATRIX ACCURATE \n",
      "  EXT PARAMETER                                   STEP         FIRST   \n",
      "  NO.   NAME      VALUE            ERROR          SIZE      DERIVATIVE \n",
      "   1  Constant     5.65138e+02   1.93585e+01   8.72730e-02   3.99130e-05\n",
      "   2  Mean         4.38013e-04   6.10566e-04   4.05517e-06   4.93009e-01\n",
      "   3  Sigma        2.62716e-02   6.62280e-04   2.39383e-05  -5.04721e-02\n",
      " FCN=40.3082 FROM MIGRAD    STATUS=CONVERGED      75 CALLS          76 TOTAL\n",
      "                     EDM=1.08494e-08    STRATEGY= 1      ERROR MATRIX ACCURATE \n",
      "  EXT PARAMETER                                   STEP         FIRST   \n",
      "  NO.   NAME      VALUE            ERROR          SIZE      DERIVATIVE \n",
      "   1  Constant     1.07170e+03   3.14609e+01   7.76585e-02   3.55274e-06\n",
      "   2  Mean         2.61909e-04   3.22530e-04   1.01072e-06  -1.63737e-01\n",
      "   3  Sigma        1.39665e-02   2.52501e-04   1.31898e-05  -6.34722e-03\n",
      " FCN=2.55188 FROM MIGRAD    STATUS=CONVERGED      72 CALLS          73 TOTAL\n",
      "                     EDM=3.98377e-07    STRATEGY= 1      ERROR MATRIX ACCURATE \n",
      "  EXT PARAMETER                                   STEP         FIRST   \n",
      "  NO.   NAME      VALUE            ERROR          SIZE      DERIVATIVE \n",
      "   1  Constant     1.03901e+03   4.41479e+01   2.68346e-02   1.84553e-05\n",
      "   2  Mean        -8.26937e-05   2.62814e-04   2.37360e-07  -2.31404e+00\n",
      "   3  Sigma        9.87790e-03   2.71566e-04   5.24771e-06   1.00998e-01\n",
      " FCN=2.04203e-08 FROM HESSE     STATUS=NOT POSDEF     16 CALLS          71 TOTAL\n",
      "                     EDM=4.07948e-08    STRATEGY= 1      ERR MATRIX NOT POS-DEF\n",
      "  EXT PARAMETER                APPROXIMATE        STEP         FIRST   \n",
      "  NO.   NAME      VALUE            ERROR          SIZE      DERIVATIVE \n",
      "   1  Constant     5.16117e+02   3.07476e+02   1.93288e-03   1.23949e-05\n",
      "   2  Mean        -8.83546e-04   1.35114e-03   4.50399e-08   3.25809e-01\n",
      "   3  Sigma        1.09522e-02   7.80359e-03   1.56137e-06   1.67048e-02\n",
      " FCN=3.24005e-09 FROM HESSE     STATUS=NOT POSDEF     16 CALLS          69 TOTAL\n",
      "                     EDM=6.47255e-09    STRATEGY= 1      ERR MATRIX NOT POS-DEF\n",
      "  EXT PARAMETER                APPROXIMATE        STEP         FIRST   \n",
      "  NO.   NAME      VALUE            ERROR          SIZE      DERIVATIVE \n",
      "   1  Constant     2.38412e+02   2.09877e+02   1.31182e-03   7.14505e-06\n",
      "   2  Mean        -7.28998e-04   1.69705e-03   6.65402e-08   9.16243e-02\n",
      "   3  Sigma        1.09871e-02   1.14634e-02   2.31931e-06   4.37092e-03\n",
      " FCN=1.19919e-09 FROM HESSE     STATUS=NOT POSDEF     16 CALLS          67 TOTAL\n",
      "                     EDM=2.39555e-09    STRATEGY= 1      ERR MATRIX NOT POS-DEF\n",
      "  EXT PARAMETER                APPROXIMATE        STEP         FIRST   \n",
      "  NO.   NAME      VALUE            ERROR          SIZE      DERIVATIVE \n",
      "   1  Constant     1.02902e+02   1.37942e+02   8.61703e-04   6.58292e-06\n",
      "   2  Mean         7.11393e-04   2.53337e-03   1.01329e-07  -3.70419e-02\n",
      "   3  Sigma        1.09909e-02   1.69268e-02   3.53390e-06   1.73599e-03\n"
     ]
    },
    {
     "name": "stderr",
     "output_type": "stream",
     "text": [
      "Warning in <TCanvas::Constructor>: Deleting canvas with same name: hq\n"
     ]
    },
    {
     "data": {
      "image/png": "[encoded data removed]",
      "text/plain": [
       "<IPython.core.display.Image object>"
      ]
     },
     "metadata": {},
     "output_type": "display_data"
    }
   ],
   "source": [
    "x = array('d')\n",
    "y = array('d')\n",
    "ex = array('d')\n",
    "ey = array('d')\n",
    "npoints = 8\n",
    "\n",
    "for d in range(0,npoints):\n",
    "     low = int((d)*hdist.GetNbinsX()/npoints)\n",
    "     high = int((d+1)*hdist.GetNbinsX()/npoints)\n",
    "     lowloc = hdist.GetXaxis().GetBinLowEdge(low)\n",
    "     highloc = hdist.GetXaxis().GetBinLowEdge(high+1)\n",
    "     print(low,high)\n",
    "     histo = hdist.ProjectionY(\"histoproj_\"+str(d),low,high)\n",
    "     fun = ROOT.TF1(\"f_\"+str(d),\"gaus\")\n",
    "     histo.Fit(\"f_\"+str(d))\n",
    "     y.append(fun.GetParameter(2))\n",
    "     ey.append(fun.GetParError(2))\n",
    "     x.append((lowloc+highloc)/2)\n",
    "     ex.append(np.abs(lowloc-highloc)/2)\n",
    "\n",
    "graph = ROOT.TGraphErrors(len(x),x,y,ex,ey)\n",
    "\n",
    "\n",
    "hq = ROOT.TCanvas(\"hq\",\"hq\",800,600)\n",
    "hq.SetGrid()\n",
    "hq.SetLogy()\n",
    "graph.SetTitle(\"Resolution as function of length;Track Length [cm];#sigma(#Delta(p)/p)\")\n",
    "graph.SetMarkerColor(4)\n",
    "graph.SetMarkerSize(1)\n",
    "graph.SetMarkerStyle(21)         \n",
    "graph.GetHistogram().SetMinimum(0.00)  #   Y\n",
    "graph.Draw(\"AP\")\n",
    "hq.Draw()\n"
   ]
  }
 ],
 "metadata": {
  "kernelspec": {
   "display_name": "Python 3.8.10 64-bit",
   "language": "python",
   "name": "python3"
  },
  "language_info": {
   "codemirror_mode": {
    "name": "ipython",
    "version": 3
   },
   "file_extension": ".py",
   "mimetype": "text/x-python",
   "name": "python",
   "nbconvert_exporter": "python",
   "pygments_lexer": "ipython3",
   "version": "3.8.10"
  },
  "vscode": {
   "interpreter": {
    "hash": "916dbcbb3f70747c44a77c7bcd40155683ae19c65e1c03b4aa3499c5328201f1"
   }
  }
 },
 "nbformat": 4,
 "nbformat_minor": 5
}
