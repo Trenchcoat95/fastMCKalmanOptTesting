{
 "cells": [
  {
   "cell_type": "code",
   "execution_count": 5,
   "id": "ethical-summit",
   "metadata": {},
   "outputs": [],
   "source": [
    "import numpy as np\n",
    "from array import array\n",
    "import os\n",
    "import sys\n",
    "import ROOT\n",
    "from ROOT import TVectorD, TMatrix, TMath, TVector3, TGraphErrors, TFile, TTree, gRandom, gPad, gROOT, gVirtualX, kTRUE, kRed, TProfile, gStyle,  TFile, gSystem\n",
    "from fastSimulation import *"
   ]
  },
  {
   "cell_type": "markdown",
   "id": "f1e087ee",
   "metadata": {},
   "source": [
    "# Reading the files"
   ]
  },
  {
   "cell_type": "code",
   "execution_count": 6,
   "id": "toxic-celebration",
   "metadata": {},
   "outputs": [
    {
     "name": "stdout",
     "output_type": "stream",
     "text": [
      "Number of entries\t1\n",
      "0\t0\t/home/federico/Documents/Universita/Federico_2020-2021/Aliwork/fastMCKalmanOptTesting/data/testTPCVSGarlite/MC_01smear_Eloss_MS_Seed_Eloss_MS_Kalman_Eloss_MS/MC_01smear_Eloss_MS_Seed_Eloss_MS_Kalman_Eloss_MS.root\n",
      "Number of entries\t1\n",
      "0\t0\t/home/federico/Documents/Universita/Federico_2020-2021/Aliwork/fastMCKalmanOptTesting/data/testTPCVSGarlite/MC_01smear_Eloss_MS_Seed_Eloss_MS_Kalman_Eloss_MS/MC_01smear_Eloss_MS_Seed_Eloss_MS_Kalman_Eloss_MS.root\n",
      "Number of entries\t1\n",
      "0\t0\t/home/federico/Documents/Universita/Federico_2020-2021/Aliwork/fastMCKalmanOptTesting/data/testTPCVSGarlite/MC_01smear_Eloss_MS_Seed_Eloss_MS_Kalman_Eloss_MS/MC_01smear_Eloss_MS_Seed_Eloss_MS_Kalman_Eloss_MS.root\n",
      "Number of entries\t1\n",
      "0\t0\t/home/federico/Documents/Universita/Federico_2020-2021/Aliwork/fastMCKalmanOptTesting/data/testTPCVSGarlite/MC_01smear_Eloss_MS_Seed_Eloss_MS_Kalman_Eloss_MS/MC_01smear_Eloss_MS_Seed_Eloss_MS_Kalman_Eloss_MS.root\n"
     ]
    }
   ],
   "source": [
    "folder=\"${fastMCKalmanOptTesting}/data/testTPCVSGarlite/MC_01smear_Eloss_MS_Seed_Eloss_MS_Kalman_Eloss_MS/\"\n",
    "#folder=\"/home/federico/Documents/Universita/Federico_2020-2021/Aliwork/fastMCKalman/data/testTPCSA/\"\n",
    "inputData = folder+\"fastParticle.list\"\n",
    "ROOT.initTreeFast(inputData)\n",
    "tree=ROOT.treeFast\n",
    "treeSeed = ROOT.treeSeed\n"
   ]
  },
  {
   "cell_type": "code",
   "execution_count": 7,
   "id": "912f5314",
   "metadata": {},
   "outputs": [
    {
     "ename": "KeyboardInterrupt",
     "evalue": "",
     "output_type": "error",
     "traceback": [
      "\u001b[0;31m---------------------------------------------------------------------------\u001b[0m",
      "\u001b[0;31mKeyboardInterrupt\u001b[0m                         Traceback (most recent call last)",
      "\u001b[1;32m/home/federico/Documents/Universita/Federico_2020-2021/Aliwork/fastMCKalmanOptTesting/fastMCKalman/MC/fastMCKalmanResidualsDistance.ipynb Cell 4\u001b[0m in \u001b[0;36m<cell line: 3>\u001b[0;34m()\u001b[0m\n\u001b[1;32m     <a href='vscode-notebook-cell:/home/federico/Documents/Universita/Federico_2020-2021/Aliwork/fastMCKalmanOptTesting/fastMCKalman/MC/fastMCKalmanResidualsDistance.ipynb#W3sZmlsZQ%3D%3D?line=12'>13</a>\u001b[0m length\u001b[39m=\u001b[39m\u001b[39m0\u001b[39m\n\u001b[1;32m     <a href='vscode-notebook-cell:/home/federico/Documents/Universita/Federico_2020-2021/Aliwork/fastMCKalmanOptTesting/fastMCKalman/MC/fastMCKalmanResidualsDistance.ipynb#W3sZmlsZQ%3D%3D?line=16'>17</a>\u001b[0m \u001b[39mfor\u001b[39;00m i \u001b[39min\u001b[39;00m \u001b[39mrange\u001b[39m(\u001b[39m2\u001b[39m,tree\u001b[39m.\u001b[39mpart\u001b[39m.\u001b[39mfParamMC\u001b[39m.\u001b[39msize()\u001b[39m-\u001b[39m\u001b[39m1\u001b[39m):\n\u001b[0;32m---> <a href='vscode-notebook-cell:/home/federico/Documents/Universita/Federico_2020-2021/Aliwork/fastMCKalmanOptTesting/fastMCKalman/MC/fastMCKalmanResidualsDistance.ipynb#W3sZmlsZQ%3D%3D?line=17'>18</a>\u001b[0m     xyz \u001b[39m=\u001b[39m [tree\u001b[39m.\u001b[39mpart\u001b[39m.\u001b[39mfParamMC[i]\u001b[39m.\u001b[39mGetX(),tree\u001b[39m.\u001b[39;49mpart\u001b[39m.\u001b[39mfParamMC[i]\u001b[39m.\u001b[39mGetParameter()[\u001b[39m0\u001b[39m],tree\u001b[39m.\u001b[39mpart\u001b[39m.\u001b[39mfParamMC[i]\u001b[39m.\u001b[39mGetParameter()[\u001b[39m1\u001b[39m]]\n\u001b[1;32m     <a href='vscode-notebook-cell:/home/federico/Documents/Universita/Federico_2020-2021/Aliwork/fastMCKalmanOptTesting/fastMCKalman/MC/fastMCKalmanResidualsDistance.ipynb#W3sZmlsZQ%3D%3D?line=18'>19</a>\u001b[0m     alpha \u001b[39m=\u001b[39m tree\u001b[39m.\u001b[39mpart\u001b[39m.\u001b[39mfParamMC[i]\u001b[39m.\u001b[39mGetAlpha()\n\u001b[1;32m     <a href='vscode-notebook-cell:/home/federico/Documents/Universita/Federico_2020-2021/Aliwork/fastMCKalmanOptTesting/fastMCKalman/MC/fastMCKalmanResidualsDistance.ipynb#W3sZmlsZQ%3D%3D?line=19'>20</a>\u001b[0m     xyz_gl \u001b[39m=\u001b[39m [xyz[\u001b[39m0\u001b[39m]\u001b[39m*\u001b[39mnp\u001b[39m.\u001b[39mcos(alpha)\u001b[39m-\u001b[39mxyz[\u001b[39m1\u001b[39m]\u001b[39m*\u001b[39mnp\u001b[39m.\u001b[39msin(alpha), xyz[\u001b[39m0\u001b[39m]\u001b[39m*\u001b[39mnp\u001b[39m.\u001b[39msin(alpha)\u001b[39m+\u001b[39mxyz[\u001b[39m1\u001b[39m]\u001b[39m*\u001b[39mnp\u001b[39m.\u001b[39mcos(alpha), xyz[\u001b[39m2\u001b[39m]]\n",
      "\u001b[0;31mKeyboardInterrupt\u001b[0m: "
     ]
    },
    {
     "name": "stderr",
     "output_type": "stream",
     "text": [
      "Warning in <TROOT::Append>: Replacing existing TH1: hdist (Potential memory leak).\n"
     ]
    }
   ],
   "source": [
    "hdist = ROOT.TH2D(\"hdist\",\"hdist\",150,175,375,100,-1,1)\n",
    "\n",
    "for iev in range(tree.GetEntries()):\n",
    "    tree.GetEntry(iev)\n",
    "    #print(\"entry number: \",str(iev))\n",
    "    if (tree.part.fStatusMaskIn[1]!=31 or tree.part.fParamMC.size()==0): continue\n",
    "\n",
    "    xyz_st = [tree.part.fParamMC[1].GetX(),tree.part.fParamMC[1].GetParameter()[0],tree.part.fParamMC[1].GetParameter()[1]]\n",
    "    alpha_st = tree.part.fParamMC[1].GetAlpha()\n",
    "    xyz_gl_st = [xyz_st[0]*np.cos(alpha_st)-xyz_st[1]*np.sin(alpha_st), xyz_st[0]*np.sin(alpha_st)+xyz_st[1]*np.cos(alpha_st), xyz_st[2]]\n",
    "    x_g = xyz_gl_st[0]\n",
    "    y_g = xyz_gl_st[1]\n",
    "    length=0\n",
    "\n",
    "    \n",
    "\n",
    "    for i in range(2,tree.part.fParamMC.size()-1):\n",
    "        xyz = [tree.part.fParamMC[i].GetX(),tree.part.fParamMC[i].GetParameter()[0],tree.part.fParamMC[i].GetParameter()[1]]\n",
    "        alpha = tree.part.fParamMC[i].GetAlpha()\n",
    "        xyz_gl = [xyz[0]*np.cos(alpha)-xyz[1]*np.sin(alpha), xyz[0]*np.sin(alpha)+xyz[1]*np.cos(alpha), xyz[2]]\n",
    "        d = np.sqrt(np.square(xyz_gl[0]-xyz_gl_st[0])+np.square(xyz_gl[1]-xyz_gl_st[1])+np.square(xyz_gl[2]-xyz_gl_st[2]))\n",
    "        length=length+d\n",
    "        #print(xyz,alpha,length)\n",
    "        #if(np.abs(xyz[0])==250 or tree.part.fLoop[i]==1): break\n",
    "        if(tree.part.fLoop[i]==1): break\n",
    "        xyz_gl_st=xyz_gl\n",
    "        alpha_st=alpha\n",
    "    \n",
    "    res=(tree.part.fParamMC[1].GetP()-tree.part.fParamIn[1].GetP())/tree.part.fParamMC[1].GetP()\n",
    "    if (length!=0): hdist.Fill(length,res)\n",
    "\n",
    "cp = ROOT.TCanvas(\"myCanvasNamep\",\"The Canvas Titlep\",800,600)\n",
    "hdist.Draw(\"COLZ\")\n",
    "cp.Draw()\n",
    "save=folder+\"ResVSDist_colz\"+\".png\"\n",
    "cp.Print(save)\n",
    "        \n",
    "        "
   ]
  },
  {
   "cell_type": "code",
   "execution_count": null,
   "id": "86e83da8",
   "metadata": {},
   "outputs": [
    {
     "name": "stdout",
     "output_type": "stream",
     "text": [
      " FCN=5.02344 FROM MIGRAD    STATUS=CONVERGED      51 CALLS          52 TOTAL\n",
      "                     EDM=4.91592e-07    STRATEGY= 1      ERROR MATRIX ACCURATE \n",
      "  EXT PARAMETER                                   STEP         FIRST   \n",
      "  NO.   NAME      VALUE            ERROR          SIZE      DERIVATIVE \n",
      "   1  Constant     4.50071e+01   4.17937e+00   3.88281e-03  -2.05412e-04\n",
      "   2  Mean         5.89817e-03   2.70036e-03   3.08171e-06  -2.86484e-01\n",
      "   3  Sigma        3.45043e-02   2.17446e-03   1.87286e-05  -3.39233e-02\n",
      " FCN=12.461 FROM MIGRAD    STATUS=CONVERGED      59 CALLS          60 TOTAL\n",
      "                     EDM=2.84114e-09    STRATEGY= 1      ERROR MATRIX ACCURATE \n",
      "  EXT PARAMETER                                   STEP         FIRST   \n",
      "  NO.   NAME      VALUE            ERROR          SIZE      DERIVATIVE \n",
      "   1  Constant     1.64365e+02   8.24938e+00   1.14920e-02  -9.75990e-06\n",
      "   2  Mean         2.72987e-03   1.29577e-03   2.25093e-06  -5.29242e-03\n",
      "   3  Sigma        3.19188e-02   1.02395e-03   1.44912e-05  -8.84488e-03\n",
      " FCN=12.4856 FROM MIGRAD    STATUS=CONVERGED      59 CALLS          60 TOTAL\n",
      "                     EDM=2.64788e-09    STRATEGY= 1      ERROR MATRIX ACCURATE \n",
      "  EXT PARAMETER                                   STEP         FIRST   \n",
      "  NO.   NAME      VALUE            ERROR          SIZE      DERIVATIVE \n",
      "   1  Constant     2.45097e+02   1.01138e+01   1.47191e-02   6.04060e-06\n",
      "   2  Mean         2.06378e-04   1.00668e-03   1.74604e-06  -5.29968e-02\n",
      "   3  Sigma        2.90288e-02   7.02100e-04   1.13302e-05   1.14901e-03\n",
      " FCN=4.31808 FROM MIGRAD    STATUS=CONVERGED      54 CALLS          55 TOTAL\n",
      "                     EDM=1.30745e-07    STRATEGY= 1      ERROR MATRIX ACCURATE \n",
      "  EXT PARAMETER                                   STEP         FIRST   \n",
      "  NO.   NAME      VALUE            ERROR          SIZE      DERIVATIVE \n",
      "   1  Constant     3.06296e+02   1.17081e+01   1.07056e-02  -5.05999e-05\n",
      "   2  Mean         1.68896e-03   8.47967e-04   9.44929e-07  -3.14355e-02\n",
      "   3  Sigma        2.70075e-02   6.02644e-04   6.72096e-06  -7.01802e-02\n",
      " FCN=8.9435 FROM MIGRAD    STATUS=CONVERGED     100 CALLS         101 TOTAL\n",
      "                     EDM=1.81092e-08    STRATEGY= 1      ERROR MATRIX ACCURATE \n",
      "  EXT PARAMETER                                   STEP         FIRST   \n",
      "  NO.   NAME      VALUE            ERROR          SIZE      DERIVATIVE \n",
      "   1  Constant     3.28168e+02   1.25181e+01   1.56447e-02   1.48425e-05\n",
      "   2  Mean         6.17394e-17   5.84961e-07   7.79636e-14  -1.22865e+02\n",
      "   3  Sigma        2.53757e-02   5.69399e-04   9.29620e-06   2.68379e-02\n",
      " FCN=11.0901 FROM MIGRAD    STATUS=CONVERGED      61 CALLS          62 TOTAL\n",
      "                     EDM=2.06282e-08    STRATEGY= 1      ERROR MATRIX ACCURATE \n",
      "  EXT PARAMETER                                   STEP         FIRST   \n",
      "  NO.   NAME      VALUE            ERROR          SIZE      DERIVATIVE \n",
      "   1  Constant     4.41936e+02   1.60386e+01   2.13086e-02  -1.32395e-05\n",
      "   2  Mean         1.22443e-03   6.52585e-04   1.08160e-06   1.94292e-02\n",
      "   3  Sigma        2.23908e-02   5.07633e-04   9.78239e-06  -3.28672e-02\n",
      " FCN=8.78915 FROM MIGRAD    STATUS=CONVERGED      53 CALLS          54 TOTAL\n",
      "                     EDM=1.2038e-07    STRATEGY= 1      ERROR MATRIX ACCURATE \n",
      "  EXT PARAMETER                                   STEP         FIRST   \n",
      "  NO.   NAME      VALUE            ERROR          SIZE      DERIVATIVE \n",
      "   1  Constant     5.81633e+02   1.73824e+01   2.22563e-02   1.35985e-05\n",
      "   2  Mean         1.61876e-03   5.49648e-04   8.37919e-07   1.12084e-02\n",
      "   3  Sigma        2.18718e-02   3.57175e-04   6.87319e-06  -5.94364e-02\n",
      " FCN=2.38379 FROM MIGRAD    STATUS=CONVERGED      62 CALLS          63 TOTAL\n",
      "                     EDM=1.86847e-10    STRATEGY= 1      ERROR MATRIX ACCURATE \n",
      "  EXT PARAMETER                                   STEP         FIRST   \n",
      "  NO.   NAME      VALUE            ERROR          SIZE      DERIVATIVE \n",
      "   1  Constant     1.05478e+03   2.45895e+01   1.79893e-02   7.13902e-07\n",
      "   2  Mean         1.62068e-03   3.99335e-04   3.58117e-07  -1.08996e-02\n",
      "   3  Sigma        2.09826e-02   2.84178e-04   3.29762e-06  -5.15124e-04\n",
      " FCN=4.93562 FROM MIGRAD    STATUS=CONVERGED      59 CALLS          60 TOTAL\n",
      "                     EDM=6.11178e-12    STRATEGY= 1      ERROR MATRIX ACCURATE \n",
      "  EXT PARAMETER                                   STEP         FIRST   \n",
      "  NO.   NAME      VALUE            ERROR          SIZE      DERIVATIVE \n",
      "   1  Constant     4.53027e+02   1.63021e+01   1.55894e-02   2.32822e-07\n",
      "   2  Mean         2.64474e-03   6.13382e-04   7.24473e-07  -1.83618e-03\n",
      "   3  Sigma        2.10484e-02   4.50692e-04   6.73486e-06   4.82356e-04\n",
      " FCN=4.31353 FROM MIGRAD    STATUS=CONVERGED      67 CALLS          68 TOTAL\n",
      "                     EDM=1.4173e-06    STRATEGY= 1      ERROR MATRIX ACCURATE \n",
      "  EXT PARAMETER                                   STEP         FIRST   \n",
      "  NO.   NAME      VALUE            ERROR          SIZE      DERIVATIVE \n",
      "   1  Constant     1.49143e+01   3.71856e+00   2.66871e-03   3.13308e-04\n",
      "   2  Mean         6.54113e-03   4.36660e-03   4.11082e-06   3.99999e-01\n",
      "   3  Sigma        2.16217e-02   4.77962e-03   5.03066e-05   2.97565e-02\n"
     ]
    },
    {
     "name": "stderr",
     "output_type": "stream",
     "text": [
      "Info in <TCanvas::Print>: png file /home/federico/Documents/Universita/Federico_2020-2021/Aliwork/fastMCKalmanOptTesting/data/testTPCVSGarlite/MC_01smear_Eloss_MS_Seed_Eloss_MS_Kalman_Eloss_MS/ResVSDist.png has been created\n"
     ]
    },
    {
     "data": {
      "image/png": "[encoded data removed]",
      "text/plain": [
       "<IPython.core.display.Image object>"
      ]
     },
     "metadata": {},
     "output_type": "display_data"
    }
   ],
   "source": [
    "x = array('d')\n",
    "y = array('d')\n",
    "ex = array('d')\n",
    "ey = array('d')\n",
    "npoints = 10\n",
    "\n",
    "for d in range(0,npoints):\n",
    "     low = int((d)*hdist.GetNbinsX()/npoints)\n",
    "     high = int((d+1)*hdist.GetNbinsX()/npoints)\n",
    "     lowloc = hdist.GetXaxis().GetBinLowEdge(low)\n",
    "     highloc = hdist.GetXaxis().GetBinLowEdge(high)\n",
    "     \n",
    "     histo = hdist.ProjectionY(\"histoproj_\"+str(d),low,high)\n",
    "     fun = ROOT.TF1(\"f_\"+str(d),\"gaus\")\n",
    "     histo.Fit(\"f_\"+str(d))\n",
    "     y.append(fun.GetParameter(2))\n",
    "     ey.append(fun.GetParError(2))\n",
    "     x.append((lowloc+highloc)/2)\n",
    "     ex.append(np.abs(lowloc-highloc)/2)\n",
    "\n",
    "graph = ROOT.TGraphErrors(len(x),x,y,ex,ey)\n",
    "\n",
    "\n",
    "hq = ROOT.TCanvas(\"hq\",\"hq\",800,600)\n",
    "hq.SetGrid()\n",
    "hq.SetLogy()\n",
    "graph.SetTitle(\"Resolution as function of length;Track Length [cm];#sigma(#Delta(p)/p)\")\n",
    "graph.SetMarkerColor(4)\n",
    "graph.SetMarkerSize(1)\n",
    "graph.SetMarkerStyle(21)         \n",
    "graph.GetHistogram().SetMaximum(0.1)  #   Y\n",
    "graph.Draw(\"AP\")\n",
    "hq.Draw()\n",
    "save=folder+\"ResVSDist\"+\".png\"\n",
    "hq.Print(save)\n"
   ]
  }
 ],
 "metadata": {
  "kernelspec": {
   "display_name": "Python 3.8.10 64-bit",
   "language": "python",
   "name": "python3"
  },
  "language_info": {
   "codemirror_mode": {
    "name": "ipython",
    "version": 3
   },
   "file_extension": ".py",
   "mimetype": "text/x-python",
   "name": "python",
   "nbconvert_exporter": "python",
   "pygments_lexer": "ipython3",
   "version": "3.8.10"
  },
  "vscode": {
   "interpreter": {
    "hash": "916dbcbb3f70747c44a77c7bcd40155683ae19c65e1c03b4aa3499c5328201f1"
   }
  }
 },
 "nbformat": 4,
 "nbformat_minor": 5
}
