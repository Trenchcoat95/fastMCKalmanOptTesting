{
 "cells": [
  {
   "cell_type": "code",
   "execution_count": 1,
   "id": "ethical-summit",
   "metadata": {},
   "outputs": [
    {
     "name": "stdout",
     "output_type": "stream",
     "text": [
      "Welcome to JupyROOT 6.22/02\n"
     ]
    },
    {
     "name": "stderr",
     "output_type": "stream",
     "text": [
      "Warning in <TClassTable::Add>: class ROOT::VecOps::RVec<int> already in TClassTable\n",
      "Warning in <TClassTable::Add>: class ROOT::VecOps::RVec<float> already in TClassTable\n"
     ]
    }
   ],
   "source": [
    "import numpy as np\n",
    "from array import array\n",
    "import os\n",
    "import sys\n",
    "import ROOT\n",
    "from ROOT import TVectorD, TMatrix, TMath, TVector3, TGraphErrors, TFile, TTree, gRandom, gPad, gROOT, gVirtualX, kTRUE, kRed, TProfile, gStyle,  TFile, gSystem\n",
    "from fastSimulation import *"
   ]
  },
  {
   "cell_type": "markdown",
   "id": "f1e087ee",
   "metadata": {},
   "source": [
    "# Reading the files"
   ]
  },
  {
   "cell_type": "code",
   "execution_count": 2,
   "id": "toxic-celebration",
   "metadata": {},
   "outputs": [
    {
     "name": "stdout",
     "output_type": "stream",
     "text": [
      "Number of entries\t1\n",
      "0\t0\t/home/federico/Documents/Universita/Federico_2020-2021/Aliwork/fastMCKalmanOptTesting/data/testTPCmuons/fixedpt20/MC_01smear_Eloss_MS_Seed_Eloss_MS_Kalman_Eloss_MS/MC_01smear_Eloss_MS_Seed_Eloss_MS_Kalman_Eloss_MS.root\n",
      "Number of entries\t1\n",
      "0\t0\t/home/federico/Documents/Universita/Federico_2020-2021/Aliwork/fastMCKalmanOptTesting/data/testTPCmuons/fixedpt20/MC_01smear_Eloss_MS_Seed_Eloss_MS_Kalman_Eloss_MS/MC_01smear_Eloss_MS_Seed_Eloss_MS_Kalman_Eloss_MS.root\n",
      "Number of entries\t1\n",
      "0\t0\t/home/federico/Documents/Universita/Federico_2020-2021/Aliwork/fastMCKalmanOptTesting/data/testTPCmuons/fixedpt20/MC_01smear_Eloss_MS_Seed_Eloss_MS_Kalman_Eloss_MS/MC_01smear_Eloss_MS_Seed_Eloss_MS_Kalman_Eloss_MS.root\n",
      "Number of entries\t1\n",
      "0\t0\t/home/federico/Documents/Universita/Federico_2020-2021/Aliwork/fastMCKalmanOptTesting/data/testTPCmuons/fixedpt20/MC_01smear_Eloss_MS_Seed_Eloss_MS_Kalman_Eloss_MS/MC_01smear_Eloss_MS_Seed_Eloss_MS_Kalman_Eloss_MS.root\n"
     ]
    }
   ],
   "source": [
    "folder=\"${fastMCKalmanOptTesting}/data/testTPCmuons/fixedpt20/MC_01smear_Eloss_MS_Seed_Eloss_MS_Kalman_Eloss_MS/\"\n",
    "#folder=\"/home/federico/Documents/Universita/Federico_2020-2021/Aliwork/fastMCKalman/data/testTPCSA/\"\n",
    "inputData = folder+\"fastParticle.list\"\n",
    "ROOT.initTreeFast(inputData)\n",
    "tree=ROOT.treeFast\n",
    "treeSeed = ROOT.treeSeed\n"
   ]
  },
  {
   "cell_type": "code",
   "execution_count": 3,
   "id": "912f5314",
   "metadata": {},
   "outputs": [
    {
     "data": {
      "image/png": "[encoded data removed]",
      "text/plain": [
       "<IPython.core.display.Image object>"
      ]
     },
     "metadata": {},
     "output_type": "display_data"
    }
   ],
   "source": [
    "hdist = ROOT.TH2D(\"hdist\",\"hdist\",100,0,400,100,-1,1)\n",
    "\n",
    "for iev in range(tree.GetEntries()):\n",
    "    tree.GetEntry(iev)\n",
    "    #print(\"entry number: \",str(iev))\n",
    "    if (tree.part.fStatusMaskIn[1]!=31 or tree.part.fParamMC.size()==0): continue\n",
    "\n",
    "    xyz_st = [tree.part.fParamMC[1].GetX(),tree.part.fParamMC[1].GetParameter()[0],tree.part.fParamMC[1].GetParameter()[1]]\n",
    "    alpha_st = tree.part.fParamMC[1].GetAlpha()\n",
    "    xyz_gl_st = [xyz_st[0]*np.cos(alpha_st)-xyz_st[1]*np.sin(alpha_st), xyz_st[0]*np.sin(alpha_st)+xyz_st[1]*np.cos(alpha_st), xyz_st[2]]\n",
    "    x_g = xyz_gl_st[0]\n",
    "    y_g = xyz_gl_st[1]\n",
    "    length=0\n",
    "\n",
    "    \n",
    "\n",
    "    for i in range(2,tree.part.fParamMC.size()):\n",
    "        xyz = [tree.part.fParamMC[i].GetX(),tree.part.fParamMC[i].GetParameter()[0],tree.part.fParamMC[i].GetParameter()[1]]\n",
    "        alpha = tree.part.fParamMC[i].GetAlpha()\n",
    "        xyz_gl = [xyz[0]*np.cos(alpha)-xyz[1]*np.sin(alpha), xyz[0]*np.sin(alpha)+xyz[1]*np.cos(alpha), xyz[2]]\n",
    "        d = np.sqrt(np.square(xyz_gl[0]-xyz_gl_st[0])+np.square(xyz_gl[1]-xyz_gl_st[1])+np.square(xyz_gl[2]-xyz_gl_st[2]))\n",
    "        length=length+d\n",
    "        #print(xyz,alpha,length)\n",
    "        if(np.abs(xyz[0])==250 or tree.part.fLoop[i]==1): break\n",
    "        xyz_gl_st=xyz_gl\n",
    "        alpha_st=alpha\n",
    "    \n",
    "    res=(tree.part.fParamMC[1].GetP()-tree.part.fParamIn[1].GetP())/tree.part.fParamMC[1].GetP()\n",
    "    hdist.Fill(length,res)\n",
    "\n",
    "cp = ROOT.TCanvas(\"myCanvasNamep\",\"The Canvas Titlep\",800,600)\n",
    "hdist.Draw(\"COLZ\")\n",
    "cp.Draw()\n",
    "\n",
    "        \n",
    "        "
   ]
  },
  {
   "cell_type": "code",
   "execution_count": 4,
   "id": "86e83da8",
   "metadata": {},
   "outputs": [
    {
     "name": "stdout",
     "output_type": "stream",
     "text": [
      "0 12\n",
      "12 25\n",
      "25 37\n",
      "37 50\n",
      "50 62\n",
      "62 75\n",
      "75 87\n",
      "87 100\n",
      " FCN=124.579 FROM MIGRAD    STATUS=CONVERGED     154 CALLS         155 TOTAL\n",
      "                     EDM=1.06177e-06    STRATEGY= 1      ERROR MATRIX ACCURATE \n",
      "  EXT PARAMETER                                   STEP         FIRST   \n",
      "  NO.   NAME      VALUE            ERROR          SIZE      DERIVATIVE \n",
      "   1  Constant     6.95190e+00   3.30503e+00   2.14570e-03  -2.29108e-03\n",
      "   2  Mean         1.49599e+00   1.09097e+00   3.31098e-04   6.56078e-03\n",
      "   3  Sigma        1.15617e+00   4.70840e-01   1.13938e-04   1.14764e-03\n",
      " FCN=342.598 FROM MIGRAD    STATUS=CONVERGED      98 CALLS          99 TOTAL\n",
      "                     EDM=1.82042e-07    STRATEGY= 1      ERROR MATRIX ACCURATE \n",
      "  EXT PARAMETER                                   STEP         FIRST   \n",
      "  NO.   NAME      VALUE            ERROR          SIZE      DERIVATIVE \n",
      "   1  Constant     5.99153e+01   3.28891e+00   1.58840e-02   1.02910e-04\n",
      "   2  Mean         1.79814e-02   4.54697e-03   4.11544e-05   1.21286e-01\n",
      "   3  Sigma        1.55196e-01   7.20029e-03   5.26766e-05   1.19732e-02\n",
      " FCN=271.224 FROM MIGRAD    STATUS=CONVERGED     105 CALLS         106 TOTAL\n",
      "                     EDM=1.20313e-06    STRATEGY= 1      ERROR MATRIX ACCURATE \n",
      "  EXT PARAMETER                                   STEP         FIRST   \n",
      "  NO.   NAME      VALUE            ERROR          SIZE      DERIVATIVE \n",
      "   1  Constant     2.13790e+02   8.29794e+00   4.24981e-02  -2.89615e-04\n",
      "   2  Mean         2.24430e-03   1.51248e-03   1.21848e-05  -1.61957e-01\n",
      "   3  Sigma        6.12715e-02   1.83458e-03   3.11898e-05  -3.22838e-01\n",
      " FCN=108.682 FROM MIGRAD    STATUS=CONVERGED      94 CALLS          95 TOTAL\n",
      "                     EDM=1.39841e-07    STRATEGY= 1      ERROR MATRIX ACCURATE \n",
      "  EXT PARAMETER                                   STEP         FIRST   \n",
      "  NO.   NAME      VALUE            ERROR          SIZE      DERIVATIVE \n",
      "   1  Constant     3.47771e+02   1.20636e+01   4.29532e-02  -3.29840e-05\n",
      "   2  Mean         1.81395e-03   9.57405e-04   4.86105e-06   4.74112e-01\n",
      "   3  Sigma        3.93083e-02   9.78219e-04   2.18860e-05  -3.51915e-02\n",
      " FCN=22.3141 FROM MIGRAD    STATUS=CONVERGED      60 CALLS          61 TOTAL\n",
      "                     EDM=2.70893e-09    STRATEGY= 1      ERROR MATRIX ACCURATE \n",
      "  EXT PARAMETER                                   STEP         FIRST   \n",
      "  NO.   NAME      VALUE            ERROR          SIZE      DERIVATIVE \n",
      "   1  Constant     2.98174e+02   1.12963e+01   2.05558e-02   7.95975e-07\n",
      "   2  Mean         4.75955e-04   9.42831e-04   2.15848e-06   7.45978e-02\n",
      "   3  Sigma        3.13013e-02   7.54519e-04   1.37450e-05   6.37759e-03\n",
      " FCN=7.72201 FROM MIGRAD    STATUS=CONVERGED      68 CALLS          69 TOTAL\n",
      "                     EDM=2.27879e-10    STRATEGY= 1      ERROR MATRIX ACCURATE \n",
      "  EXT PARAMETER                                   STEP         FIRST   \n",
      "  NO.   NAME      VALUE            ERROR          SIZE      DERIVATIVE \n",
      "   1  Constant     1.85465e+02   9.07814e+00   1.03462e-02   1.16744e-06\n",
      "   2  Mean        -1.57920e-04   1.13115e-03   1.60628e-06  -1.68218e-02\n",
      "   3  Sigma        2.87554e-02   8.64469e-04   1.06481e-05  -2.88065e-04\n",
      " FCN=4.44281 FROM MIGRAD    STATUS=CONVERGED      62 CALLS          63 TOTAL\n",
      "                     EDM=2.87305e-10    STRATEGY= 1      ERROR MATRIX ACCURATE \n",
      "  EXT PARAMETER                                   STEP         FIRST   \n",
      "  NO.   NAME      VALUE            ERROR          SIZE      DERIVATIVE \n",
      "   1  Constant     8.60394e+01   6.28062e+00   5.90442e-03   5.73141e-07\n",
      "   2  Mean        -1.54182e-03   1.57908e-03   1.76105e-06   1.12867e-02\n",
      "   3  Sigma        2.55685e-02   1.06091e-03   1.27097e-05  -7.64955e-04\n",
      " FCN=3.28546 FROM MIGRAD    STATUS=CONVERGED      57 CALLS          58 TOTAL\n",
      "                     EDM=9.95947e-09    STRATEGY= 1      ERROR MATRIX ACCURATE \n",
      "  EXT PARAMETER                                   STEP         FIRST   \n",
      "  NO.   NAME      VALUE            ERROR          SIZE      DERIVATIVE \n",
      "   1  Constant     3.07485e+01   3.70321e+00   3.09737e-03   4.06109e-05\n",
      "   2  Mean        -1.71297e-03   2.63942e-03   2.66474e-06  -2.32080e-02\n",
      "   3  Sigma        2.61812e-02   1.80631e-03   1.91791e-05   2.39396e-03\n"
     ]
    },
    {
     "data": {
      "image/png": "[encoded data removed]",
      "text/plain": [
       "<IPython.core.display.Image object>"
      ]
     },
     "metadata": {},
     "output_type": "display_data"
    }
   ],
   "source": [
    "x = array('d')\n",
    "y = array('d')\n",
    "ex = array('d')\n",
    "ey = array('d')\n",
    "npoints = 8\n",
    "\n",
    "for d in range(0,npoints):\n",
    "     low = int((d)*hdist.GetNbinsX()/npoints)\n",
    "     high = int((d+1)*hdist.GetNbinsX()/npoints)\n",
    "     lowloc = hdist.GetXaxis().GetBinLowEdge(low)\n",
    "     highloc = hdist.GetXaxis().GetBinLowEdge(high+1)\n",
    "     print(low,high)\n",
    "     histo = hdist.ProjectionY(\"histoproj_\"+str(d),low,high)\n",
    "     fun = ROOT.TF1(\"f_\"+str(d),\"gaus\")\n",
    "     histo.Fit(\"f_\"+str(d))\n",
    "     y.append(fun.GetParameter(2))\n",
    "     ey.append(fun.GetParError(2))\n",
    "     x.append((lowloc+highloc)/2)\n",
    "     ex.append(np.abs(lowloc-highloc)/2)\n",
    "\n",
    "graph = ROOT.TGraphErrors(len(x),x,y,ex,ey)\n",
    "\n",
    "\n",
    "hq = ROOT.TCanvas(\"hq\",\"hq\",800,600)\n",
    "hq.SetGrid()\n",
    "hq.SetLogy()\n",
    "graph.SetTitle(\"Resolution as function of length;Track Length [cm];#sigma(#Delta(p)/p)\")\n",
    "graph.SetMarkerColor(4)\n",
    "graph.SetMarkerSize(1)\n",
    "graph.SetMarkerStyle(21)         \n",
    "graph.GetHistogram().SetMinimum(0.02)  #   Y\n",
    "graph.Draw(\"AP\")\n",
    "hq.Draw()\n"
   ]
  }
 ],
 "metadata": {
  "kernelspec": {
   "display_name": "Python 3.8.10 64-bit",
   "language": "python",
   "name": "python3"
  },
  "language_info": {
   "codemirror_mode": {
    "name": "ipython",
    "version": 3
   },
   "file_extension": ".py",
   "mimetype": "text/x-python",
   "name": "python",
   "nbconvert_exporter": "python",
   "pygments_lexer": "ipython3",
   "version": "3.8.10"
  },
  "vscode": {
   "interpreter": {
    "hash": "916dbcbb3f70747c44a77c7bcd40155683ae19c65e1c03b4aa3499c5328201f1"
   }
  }
 },
 "nbformat": 4,
 "nbformat_minor": 5
}
