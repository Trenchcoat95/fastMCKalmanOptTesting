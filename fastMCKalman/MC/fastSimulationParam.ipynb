{
 "cells": [
  {
   "cell_type": "markdown",
   "metadata": {},
   "source": [
    "# Fast simulation perfromance parameterization \n",
    "Expert  configurable event display for fast simulzation studies  \n",
    "\n",
    "\n",
    "## Contents \n",
    "[Import modules](#import) <br>\n",
    "[Load trees, set aliases](#load) <br>\n",
    "[XYZ display pt](#XYZdisplayPt) <br>\n",
    "[XYZ display pt](#XYZdisplaytrack) <br>"
   ]
  },
  {
   "cell_type": "code",
   "execution_count": null,
   "metadata": {},
   "outputs": [],
   "source": [
    "from bokeh.io import output_notebook\n",
    "from RootInteractive.Tools.aliTreePlayer import *\n",
    "from RootInteractive.InteractiveDrawing.bokeh.bokehDrawSA import *\n",
    "from RootInteractive.Tools.aliTreePlayer import *\n",
    "from bokeh.io import curdoc\n",
    "import numpy as np\n",
    "import os\n",
    "import sys\n",
    "from ROOT import TFile, gSystem\n",
    "from RootInteractive.InteractiveDrawing.bokeh.bokehDrawSA import *\n",
    "from RootInteractive.MLpipeline.NDFunctionInterface import  DataContainer, Fitter, RandomForest\n",
    "import plotly.express as px\n",
    "import time\n",
    "import pickle\n",
    "from IPython.display import Image, clear_output\n",
    "from RootInteractive.InteractiveDrawing.bokeh.CDSCompress import *\n",
    "#\n",
    "from fastSimulation import *"
   ]
  },
  {
   "cell_type": "code",
   "execution_count": null,
   "metadata": {},
   "outputs": [],
   "source": [
    "from RootInteractive.MLpipeline.MIForestErrPDF import *\n",
    "import seaborn as sns\n",
    "import matplotlib.pyplot as plt\n",
    "from sklearn.linear_model import LinearRegression"
   ]
  },
  {
   "cell_type": "markdown",
   "metadata": {},
   "source": [
    "## 1.) Load trees and define derived variables:\n",
    "<a id='load'></a>"
   ]
  },
  {
   "cell_type": "markdown",
   "metadata": {},
   "source": [
    "* Covaraince matrix of Alice kalman track - stored as an array \n",
    "* ```(y,z,sing*phi),tgl(theta),qPt) -> (0,2,5,9,14)```\n",
    " * 0   \n",
    " * 1 2\n",
    " * 3 4 5 \n",
    " * 6 7 8 9\n",
    " * 10 11 12 13 14 "
   ]
  },
  {
   "cell_type": "code",
   "execution_count": null,
   "metadata": {},
   "outputs": [],
   "source": [
    "#inputData = \"/home2/miranov/github/fastMCKalman/data/alice3/fastParticle.list\";\n",
    "#inputData = \"${fastMCKalman}/data/alice3/fastParticle.list\";\n",
    "inputData = \"/home2/miranov/github/fastMCKalman/data/testTPCSA/fastParticle.list\"\n",
    "#inputData = \"/home2/miranov/github/fastMCKalman/data/run2/fastParticle.list\";"
   ]
  },
  {
   "cell_type": "code",
   "execution_count": null,
   "metadata": {},
   "outputs": [],
   "source": [
    "ROOT.initTreeFast(inputData)\n",
    "tree=ROOT.treeFast"
   ]
  },
  {
   "cell_type": "code",
   "execution_count": null,
   "metadata": {},
   "outputs": [],
   "source": [
    "tree.SetMarkerStyle(25)\n",
    "tree.SetMarkerSize(0.5)\n",
    "ROOT.setAliases(tree)\n",
    "tree.SetAlias(\"snp0\",\"part.fParamIn[0].fP[2]\")\n",
    "tree.SetAlias(\"qPt\",\"part.fParamMC[0].fP[4]\")\n",
    "tree.SetAlias(\"ptMC\",\"part.fParamMC[0].fData.Pt()\")\n",
    "tree.SetAlias(\"ptIn\",\"part.fParamIn[1].fData.Pt()\")\n",
    "tree.SetAlias(\"ptMCP\",\"part.fParamMC[].fData.Pt()\")\n",
    "tree.SetAlias(\"tglMC\",\"part.fParamMC[0].fP[3]\")\n",
    "tree.SetAlias(\"tglIn\",\"part.fParamIn[1].fP[3]\")\n",
    "#\n",
    "tree.SetAlias(\"sigmaY0\",\"sqrt(part.fParamIn[1].fC[0])\")\n",
    "tree.SetAlias(\"sigmaZ0\",\"sqrt(part.fParamIn[1].fC[2])\")\n",
    "tree.SetAlias(\"sigmaqPt0\",\"sqrt(part.fParamIn[1].fC[14])\")\n",
    "#\n",
    "tree.SetAlias(\"sigmaY0Rot\",\"sqrt(part.fParamInRot[1].fC[0])\")\n",
    "tree.SetAlias(\"sigmaZ0Rot\",\"sqrt(part.fParamInRot[1].fC[2])\")\n",
    "tree.SetAlias(\"sigmaqPt0Rot\",\"sqrt(part.fParamInRot[1].fC[14])\")\n",
    "#\n",
    "tree.SetAlias(\"gzMC\",\"(part.fParamMC[].fP[1])\")\n",
    "tree.SetAlias(\"gzIn\",\"(part.fParamIn[].fP[1])\")\n",
    "tree.SetAlias(\"rMC\",\"sqrt(gxMC**2+gyMC**2)\")\n",
    "tree.SetAlias(\"snpMC\",\"(part.fParamMC[].fP[2])\")\n",
    "tree.SetAlias(\"pIndex\",\"Iteration$\")\n",
    "tree.SetAlias(\"trackID\",\"i\")\n",
    "tree.SetAlias(\"snpMax\",\"abs(part.fParamMC[fMaxLayer].fP[2])\")\n",
    "#\n",
    "tree.SetAlias(\"meanptMC\",\"part.getMean(0+0,0)\");\n",
    "tree.SetAlias(\"meanptMCInv\",\"part.getMean(1+0,0)\");\n",
    "tree.SetAlias(\"meandEdxExp\",\"part.getMean(2+0,0)\");\n",
    "tree.SetAlias(\"meandEdxExpInv\",\"part.getMean(3+0,0)\");\n",
    "tree.SetAlias(\"meanStat4\",\"part.getMean(4+0,0)\");\n",
    "tree.SetAlias(\"X0Norm\",\"geom.fLayerX0.fData[0]/7.8350968e-05\");\n",
    "tree.SetAlias(\"sigmaRPhi\",\"geom.fLayerResolRPhi.fData[0]\");\n",
    "tree.SetAlias(\"sigmaPtRel0\",\"sigmaqPt0*ptMC\");\n",
    "tree.SetAlias(\"sigmaPtRel0Mean\",\"sigmaqPt0/meanptMCInv\");\n",
    "#\n",
    "tree.SetAlias(\"fitCut\",\"ptMC>0.01&&Larm>30&&sigmaPtRel0<0.5\")\n",
    "#tree.SetAlias(\"Larm\",\"fLengthIn\")    # the number of clusters not corresponding to length in the reco\n",
    "tree.SetAlias(\"Larm\",\"getStat(2)\") \n",
    "c=ROOT.TCanvas()\n"
   ]
  },
  {
   "cell_type": "code",
   "execution_count": null,
   "metadata": {},
   "outputs": [],
   "source": [
    "tree.SetAlias(\"dir1\",\"part.fParamIn[1].fData.GetDirectionSign()\")\n",
    "#tree.Draw(\"part.fParamIn[1].fData.GetDirectionSign()\")"
   ]
  },
  {
   "cell_type": "markdown",
   "metadata": {},
   "source": [
    "## Load panda from tree"
   ]
  },
  {
   "cell_type": "code",
   "execution_count": null,
   "metadata": {},
   "outputs": [],
   "source": [
    "%%time\n",
    "tree.SetAlias(\"fitCut\",\"ptMC>0.01&&Larm>30&&sigmaPtRel0<0.5&&fMaxLayer>2\")\n",
    "#tree.SetAlias(\"meanStat0\",\"getStat(0)\")\n",
    "defaultCutTrack=\"Larm>5&&fMaxLayer>1&&sigmaqPt0>0&&sigmaPtRel0>0\"\n",
    "\n",
    "kineParam=[\"sigmaPtRel0\",\"qPt\",\"ptMC\",\n",
    "                           \"sigmaY0\",\"sigmaZ0\",\"sigmaqPt0\",\n",
    "                           \"sigmaY0Rot\",\"sigmaZ0Rot\",\"sigmaqPt0Rot\",\n",
    "                           \"pidCode\",\"isSecondary\",\"fMaxLayer\",\"dEdxExp\",\n",
    "                          \"snpMax\",\"fMassMC\",\"dir1\",\"snp0\",\"meanStat4\"]\n",
    "resolParam=[\"meanptMCInv\",\"meandEdxExpInv\",\"X0Norm\",\"tglMC\",\"Larm\",\"sigmaRPhi\"]\n",
    "\n",
    "dfRes=tree2Panda(tree,kineParam+resolParam,\n",
    "                 defaultCutTrack,columnMask=[[\"_fElements\",\"\"]],nEntries=10000)\n",
    "dfFit=dfRes[0:dfRes.shape[0]//2]\n",
    "dfTest=dfRes[dfRes.shape[0]//2:]\n",
    "print(dfRes.shape)\n",
    "#dfResFit=dfRes[:dfRes.shape[1]//2]\n",
    "#dfResTest=dfRes[dfRes.shape[1]//2:]"
   ]
  },
  {
   "cell_type": "markdown",
   "metadata": {},
   "source": [
    "## Make high pt scaling"
   ]
  },
  {
   "cell_type": "code",
   "execution_count": null,
   "metadata": {},
   "outputs": [],
   "source": [
    "from sklearn.linear_model import LinearRegression\n",
    "#dfResMLDraw[\"FitRatioRF\"]=dfResMLDraw.eval(\"log(sigmaPtRel0/RF)\")\n",
    "dfRes[\"qptResolHPT\"]=dfRes.eval(\"(sigmaRPhi+0.001)/Larm**2.5\")\n",
    "dfResHPT=dfRes.query(\"ptMC>4&Larm>10&isSecondary==0\")\n",
    "linearHPT=LinearRegression()\n",
    "linearHPT.fit(dfResHPT[[\"qptResolHPT\"]],dfResHPT[\"sigmaqPt0\"])\n",
    "dfRes[\"qptResolHPTFit\"]=linearHPT.predict(dfRes[[\"qptResolHPT\"]])\n",
    "dfResHPT[\"qptResolHPTFit\"]=linearHPT.predict(dfResHPT[[\"qptResolHPT\"]])\n",
    "dfResHPT.plot.scatter(y=[\"sigmaqPt0\"],x=[\"qptResolHPTFit\"],figsize=(8, 5),grid=True)"
   ]
  },
  {
   "cell_type": "markdown",
   "metadata": {},
   "source": [
    "# Make low pt scaling"
   ]
  },
  {
   "cell_type": "code",
   "execution_count": null,
   "metadata": {},
   "outputs": [],
   "source": [
    "from sklearn.linear_model import LinearRegression\n",
    "#dfResMLDraw[\"FitRatioRF\"]=dfResMLDraw.eval(\"log(sigmaPtRel0/RF)\")\n",
    "dfRes[\"pMC\"]=dfRes.eval(\"sqrt(1+tglMC**2)/meanptMCInv\")\n",
    "dfRes[\"Beta\"]=dfRes.eval(\"sqrt(pMC**2/(pMC**2+fMassMC**2))\")\n",
    "dfRes[\"dEdxExpInv\"]=1/dfRes[\"dEdxExp\"]\n",
    "dfRes[\"offset\"]=1\n",
    "#\n",
    "dfRes[\"sigmaPtRel0LPTV0\"]=dfRes.eval(\"sqrt(X0Norm*dEdxExp)/sqrt(Larm)\")              # formula using the parater at the beginning\n",
    "dfRes[\"sigmaPtRel0LPTV1\"]=dfRes.eval(\"(ptMC*meanptMCInv)*sqrt((X0Norm/meandEdxExpInv))/sqrt(Larm)\")    # formula using the Mean dEdx and pt  along trajectory\n",
    "dfRes[\"sigmaPtRel0LPTV2\"]=dfRes.eval(\"pMC*sqrt(X0Norm*meanStat4)/sqrt(Larm)\")      # mean formula\n",
    "\n",
    "dfRes[\"sigmaPtRel0LPTV1R\"]=dfRes[\"sigmaPtRel0LPTV1\"]/dfRes[\"sigmaPtRel0LPTV0\"]\n",
    "dfRes[\"sigmaPtRel0LPTV2R\"]=dfRes[\"sigmaPtRel0LPTV2\"]/dfRes[\"sigmaPtRel0LPTV0\"]\n",
    "dfRes[\"sigmaPtRel0LPTV2R1\"]=dfRes[\"sigmaPtRel0LPTV2\"]/dfRes[\"sigmaPtRel0LPTV1\"]\n",
    "dfResLPT=dfRes.query(\"ptMC<1&Larm>30&isSecondary==0&sigmaPtRel0<1&abs(tglMC)<1.5\")\n",
    "#\n",
    "linearLPTV0=LinearRegression()\n",
    "linearLPTV1=LinearRegression()\n",
    "linearLPTV2=LinearRegression()\n",
    "linearLPTV0.fit(dfResLPT[[\"sigmaPtRel0LPTV0\",\"offset\"]],dfResLPT[\"sigmaPtRel0\"])\n",
    "linearLPTV1.fit(dfResLPT[[\"sigmaPtRel0LPTV1\",\"offset\"]],dfResLPT[\"sigmaPtRel0\"])\n",
    "linearLPTV2.fit(dfResLPT[[\"sigmaPtRel0LPTV2\",\"offset\"]],dfResLPT[\"sigmaPtRel0\"])\n",
    "#\n",
    "dfRes[\"sigmaPtRel0LPTV0Fit\"]=linearLPTV0.predict(dfRes[[\"sigmaPtRel0LPTV0\",\"offset\"]])\n",
    "dfRes[\"sigmaPtRel0LPTV1Fit\"]=linearLPTV1.predict(dfRes[[\"sigmaPtRel0LPTV1\",\"offset\"]])\n",
    "dfRes[\"sigmaPtRel0LPTV2Fit\"]=linearLPTV2.predict(dfRes[[\"sigmaPtRel0LPTV2\",\"offset\"]])\n",
    "dfResLPT[\"sigmaPtRel0LPTV0Fit\"]=linearLPTV0.predict(dfResLPT[[\"sigmaPtRel0LPTV0\",\"offset\"]])\n",
    "dfResLPT[\"sigmaPtRel0LPTV1Fit\"]=linearLPTV1.predict(dfResLPT[[\"sigmaPtRel0LPTV1\",\"offset\"]])\n",
    "dfResLPT[\"sigmaPtRel0LPTV2Fit\"]=linearLPTV2.predict(dfResLPT[[\"sigmaPtRel0LPTV2\",\"offset\"]])\n",
    "#\n",
    "dfResLPT.plot.scatter(x=[\"sigmaPtRel0LPTV0Fit\"],y=[\"sigmaPtRel0\"],figsize=(8, 5),grid=True)\n",
    "dfResLPT.plot.scatter(x=[\"sigmaPtRel0LPTV1Fit\"],y=[\"sigmaPtRel0\"],figsize=(8, 5),grid=True)\n",
    "dfResLPT.plot.scatter(x=[\"sigmaPtRel0LPTV2Fit\"],y=[\"sigmaPtRel0\"],figsize=(8, 5),grid=True)\n",
    "dfResLPT.plot.scatter(x=[\"sigmaPtRel0LPTV0\"],y=[\"sigmaPtRel0LPTV1R\"],figsize=(8, 5),grid=True)\n",
    "dfResLPT.plot.scatter(x=[\"sigmaPtRel0LPTV0\"],y=[\"sigmaPtRel0LPTV2R\"],figsize=(8, 5),grid=True)\n",
    "dfResLPT.plot.scatter(x=[\"sigmaPtRel0LPTV0\"],y=[\"sigmaPtRel0LPTV2R1\"],figsize=(8, 5),grid=True)\n",
    "#dfRes.plot.scatter(x=[\"dEdxExpInv\"],y=[\"meandEdxExpInv\"],figsize=(8, 5),grid=True)\n",
    "#dfRes.plot.scatter(x=[\"qPt\"],y=[\"meanptMCInv\"],figsize=(8, 5),grid=True)"
   ]
  },
  {
   "cell_type": "code",
   "execution_count": null,
   "metadata": {},
   "outputs": [],
   "source": [
    "dfRes[\"offset\"]"
   ]
  },
  {
   "cell_type": "code",
   "execution_count": null,
   "metadata": {},
   "outputs": [],
   "source": [
    "linearLPTV1.coef_\n",
    "linearLPTV1.intercept_"
   ]
  },
  {
   "cell_type": "code",
   "execution_count": null,
   "metadata": {},
   "outputs": [],
   "source": [
    "dfRes[\"sigmaPtRel0LPTV0LogRatio\"]=np.log(dfRes[\"sigmaPtRel0LPTV0Fit\"]/dfRes[\"sigmaPtRel0\"])\n",
    "dfRes[\"sigmaPtRel0LPTV1LogRatio\"]=np.log(dfRes[\"sigmaPtRel0LPTV1Fit\"]/dfRes[\"sigmaPtRel0\"])\n",
    "dfRes[\"sigmaPtRel0LPTV2LogRatio\"]=np.log(dfRes[\"sigmaPtRel0LPTV2Fit\"]/dfRes[\"sigmaPtRel0\"])\n",
    "dfRes[\"sigmaPtRel0LPTV2LogRatio1\"]=np.log((dfRes[\"sigmaPtRel0LPTV2Fit\"]-0.01)/dfRes[\"sigmaPtRel0\"])\n",
    "dfRes.query(\"ptMC<1&Larm>10&isSecondary==0&sigmaPtRel0<1&abs(tglMC)<1.5&sigmaPtRel0<0.1\")[[\"sigmaPtRel0LPTV0LogRatio\",\"sigmaPtRel0LPTV1LogRatio\",\"sigmaPtRel0LPTV2LogRatio\",\"sigmaPtRel0LPTV2LogRatio1\"]].hist(range=(-2,2),bins=100)\n",
    "\n",
    "dfRes.query(\"ptMC<1&Larm>10&isSecondary==0&sigmaPtRel0<1&abs(tglMC)<1.5&sigmaPtRel0<0.1\")[[\"sigmaPtRel0LPTV0LogRatio\",\"sigmaPtRel0LPTV1LogRatio\",\"sigmaPtRel0LPTV2LogRatio\"]].std()\n",
    "dfRes.query(\"ptMC<1&Larm>10&isSecondary==0&sigmaPtRel0<1&abs(tglMC)<1.5&sigmaPtRel0<0.1\").plot.scatter(x=[\"sigmaPtRel0\"],y=[\"sigmaPtRel0LPTV2LogRatio\"],figsize=(8, 5),grid=True)\n",
    "dfRes.query(\"ptMC<1&Larm>10&isSecondary==0&sigmaPtRel0<1&abs(tglMC)<1.5&sigmaPtRel0<0.1\").plot.scatter(x=[\"sigmaPtRel0\"],y=[\"sigmaPtRel0LPTV2LogRatio1\"],figsize=(8, 5),grid=True)\n",
    "\n",
    "dfRes.query(\"ptMC<1&Larm>10&isSecondary==0&sigmaPtRel0<1&abs(tglMC)<1.5&sigmaPtRel0<0.1\")[[\"sigmaPtRel0LPTV0LogRatio\",\"sigmaPtRel0LPTV1LogRatio\",\"sigmaPtRel0LPTV2LogRatio\",\"sigmaPtRel0LPTV2LogRatio1\"]].std()"
   ]
  },
  {
   "cell_type": "code",
   "execution_count": null,
   "metadata": {},
   "outputs": [],
   "source": [
    "linearLPTMean.coef_"
   ]
  },
  {
   "cell_type": "code",
   "execution_count": null,
   "metadata": {},
   "outputs": [],
   "source": [
    "%%time\n",
    "n_estimators=200\n",
    "n_jobs=4\n",
    "max_depth=10\n",
    "#\n",
    "dfRes['sigmaPtRelS']=dfRes[\"sigmaPtRel0\"]*(dfRes[\"Larm\"]**1.5)\n",
    "dfRes['sigmaPtRelSL']=np.log(dfRes[\"sigmaPtRelS\"])\n",
    "\n",
    "resolParam=[\"meanptMCInv\",\"meandEdxExpInv\",\"X0Norm\",\"tglMC\",\"Larm\",\"sigmaRPhi\",\"snp0\"]\n",
    "dfResML=dfRes\n",
    "npoints=dfRes.shape[0]\n",
    "varFit='sigmaPtRelS'\n",
    "variableX=resolParam\n",
    "#\n",
    "regressorRF0 = RandomForestRegressor(n_estimators =n_estimators,n_jobs=n_jobs,max_depth=max_depth,max_samples=0.5)\n",
    "regressorRF1 = RandomForestRegressor(n_estimators =n_estimators,n_jobs=n_jobs,max_depth=None,max_samples=0.5)\n",
    "regressorRFL = RandomForestRegressor(n_estimators =n_estimators,n_jobs=n_jobs,max_depth=None,max_samples=0.5)\n",
    "regressorRF0.fit(dfRes[resolParam],dfRes[varFit])\n",
    "regressorRF1.fit(dfRes[resolParam],dfRes[varFit])\n",
    "regressorRFL.fit(dfRes[resolParam],dfRes[\"sigmaPtRelSL\"])\n",
    "#regressorRF1.fit(dfTrain0[variables],dfTrain0[\"LinearDeltaBase\"])\n",
    "#regressorRF1.importance_"
   ]
  },
  {
   "cell_type": "code",
   "execution_count": null,
   "metadata": {},
   "outputs": [],
   "source": []
  },
  {
   "cell_type": "code",
   "execution_count": null,
   "metadata": {},
   "outputs": [],
   "source": [
    "# The mean estimater has snaller simga than median estimator"
   ]
  },
  {
   "cell_type": "code",
   "execution_count": null,
   "metadata": {},
   "outputs": [],
   "source": [
    "mean_depth=10\n",
    "niter_max=10\n",
    "miErrPDF=MIForestErrPDF(\"Regressor\",{\"mean_depth\":mean_depth, \"n_jobs\":n_jobs,\"niter_max\":niter_max })\n",
    "miErrPDF.fit(dfRes[resolParam],dfRes[\"sigmaPtRelSL\"])\n",
    "#\n",
    "outputErr={}\n",
    "x=[0.3,0.5,0.7]\n",
    "#miErrPDF.predictReducibleError(dfResFit[resolParam],  outputErr, 32, x)\n",
    "statDictionary={\"mean\":0,\"median\":0, \"std\":0}\n",
    "statOut=predictRFStat(regressorRF0,dfRes[resolParam].to_numpy(dtype=np.float32),statDictionary,n_jobs)\n",
    "#"
   ]
  },
  {
   "cell_type": "code",
   "execution_count": null,
   "metadata": {},
   "outputs": [],
   "source": [
    "statDictionary={\"mean\":0,\"median\":0, \"std\":0}\n",
    "miErrPDF.predictStat(dfRes[resolParam],statDictionary)\n",
    "dfRes[\"sigmaPtRelE_Mean\"]=np.exp(statDictionary[\"mean\"])/(dfRes[\"Larm\"]**1.5)\n",
    "dfRes[\"sigmaPtRelE_Median\"]=np.exp(statDictionary[\"median\"])/(dfRes[\"Larm\"]**1.5)\n",
    "dfRes[\"sigmaPtRelE_std\"]=np.exp(statDictionary[\"std\"])/(dfRes[\"Larm\"]**1.5)"
   ]
  },
  {
   "cell_type": "code",
   "execution_count": null,
   "metadata": {},
   "outputs": [],
   "source": [
    "regressorRF1.feature_importances_"
   ]
  },
  {
   "cell_type": "code",
   "execution_count": null,
   "metadata": {},
   "outputs": [],
   "source": [
    "%%time\n",
    "statDictionary={\"mean\":0, \"std\":0, \"median\":0, \"quantile\":[0.1,0.5,0.9]}\n",
    "predictRF0=predictRFStat(regressorRF0,dfRes[resolParam].to_numpy(dtype=np.float32),statDictionary,n_jobs)\n",
    "dfRes[\"sigmaPtRel0_Mean\"]=statDictionary[\"mean\"]/(dfRes[\"Larm\"]**1.5)\n",
    "dfRes[\"sigmaPtRel0_Mean0\"]=regressorRF0.predict(dfRes[resolParam])/(dfRes[\"Larm\"]**1.5)\n",
    "dfRes[\"sigmaPtRel0_Median\"]=statDictionary[\"median\"]/(dfRes[\"Larm\"]**1.5)\n",
    "dfRes[\"sigmaPtRel0_std\"]=statDictionary[\"std\"]/(dfRes[\"Larm\"]**1.5)\n",
    "#\n",
    "predictRF1=predictRFStat(regressorRF1,dfRes[resolParam].to_numpy(dtype=np.float32),statDictionary,n_jobs)\n",
    "dfRes[\"sigmaPtRel1_Mean1\"]=regressorRF1.predict(dfRes[resolParam])/(dfRes[\"Larm\"]**1.5)\n",
    "dfRes[\"sigmaPtRel1_Mean\"]=statDictionary[\"mean\"]/(dfRes[\"Larm\"]**1.5)\n",
    "dfRes[\"sigmaPtRel1_Median\"]=statDictionary[\"median\"]/(dfRes[\"Larm\"]**1.5)\n",
    "dfRes[\"sigmaPtRel1_std\"]=statDictionary[\"std\"]/(dfRes[\"Larm\"]**1.5)\n",
    "#\n",
    "predictRFL=predictRFStat(regressorRFL,dfRes[resolParam].to_numpy(dtype=np.float32),statDictionary,n_jobs)\n",
    "dfRes[\"sigmaPtRelL_Mean1\"]=np.exp(regressorRF1.predict(dfRes[resolParam]))/(dfRes[\"Larm\"]**1.5)\n",
    "dfRes[\"sigmaPtRelL_Mean\"]=np.exp(statDictionary[\"mean\"])/(dfRes[\"Larm\"]**1.5)\n",
    "dfRes[\"sigmaPtRelL_Median\"]=np.exp(statDictionary[\"median\"])/(dfRes[\"Larm\"]**1.5)\n",
    "dfRes[\"sigmaPtRelL_std\"]=np.exp(statDictionary[\"std\"])/(dfRes[\"Larm\"]**1.5)\n",
    "#\n",
    "print(\"sigmaPtRel0_Mean\",(np.log(dfRes[\"sigmaPtRel0\"]/dfRes[\"sigmaPtRel0_Mean\"])).std())\n",
    "print(\"sigmaPtRel1_Mean\",(np.log(dfRes[\"sigmaPtRel0\"]/dfRes[\"sigmaPtRel1_Mean\"])).std())\n",
    "print(\"sigmaPtRelL_Mean\",(np.log(dfRes[\"sigmaPtRel0\"]/dfRes[\"sigmaPtRelL_Mean\"])).std())\n",
    "print(\"sigmaPtRelE_Mean\",(np.log(dfRes[\"sigmaPtRel0\"]/dfRes[\"sigmaPtRelE_Mean\"])).std())\n",
    "\n",
    "print(\"sigmaPtRel0_Median\",(np.log(dfRes[\"sigmaPtRel0\"]/dfRes[\"sigmaPtRel0_Median\"])).std())\n",
    "print(\"sigmaPtRel1_Median\",(np.log(dfRes[\"sigmaPtRel0\"]/dfRes[\"sigmaPtRel1_Median\"])).std())\n",
    "print(\"sigmaPtRelL_Median\",(np.log(dfRes[\"sigmaPtRel0\"]/dfRes[\"sigmaPtRelL_Median\"])).std())\n",
    "print(\"sigmaPtRelE_Median\",(np.log(dfRes[\"sigmaPtRel0\"]/dfRes[\"sigmaPtRelE_Median\"])).std())\n",
    "\n"
   ]
  },
  {
   "cell_type": "code",
   "execution_count": null,
   "metadata": {},
   "outputs": [],
   "source": [
    "dfTest"
   ]
  },
  {
   "cell_type": "code",
   "execution_count": null,
   "metadata": {},
   "outputs": [],
   "source": [
    "%%time\n",
    "statDictionary={\"mean\":0, \"std\":0, \"median\":0, \"quantile\":[0.1,0.5,0.9]}\n",
    "predictRF0=predictRFStat(regressorRF0,dfTest[resolParam].to_numpy(dtype=np.float32),statDictionary,n_jobs)\n",
    "dfTest[\"sigmaPtRel0_Mean\"]=statDictionary[\"mean\"]/(dfTest[\"Larm\"]**1.5)\n",
    "dfTest[\"sigmaPtRel0_Mean0\"]=regressorRF0.predict(dfTest[resolParam])/(dfTest[\"Larm\"]**1.5)\n",
    "dfTest[\"sigmaPtRel0_Median\"]=statDictionary[\"median\"]/(dfTest[\"Larm\"]**1.5)\n",
    "dfTest[\"sigmaPtRel0_std\"]=statDictionary[\"std\"]/(dfTest[\"Larm\"]**1.5)\n",
    "#\n",
    "predictRF1=predictRFStat(regressorRF1,dfTest[resolParam].to_numpy(dtype=np.float32),statDictionary,n_jobs)\n",
    "dfTest[\"sigmaPtRel1_Mean1\"]=regressorRF1.predict(dfTest[resolParam])/(dfTest[\"Larm\"]**1.5)\n",
    "dfTest[\"sigmaPtRel1_Mean\"]=statDictionary[\"mean\"]/(dfTest[\"Larm\"]**1.5)\n",
    "dfTest[\"sigmaPtRel1_Median\"]=statDictionary[\"median\"]/(dfTest[\"Larm\"]**1.5)\n",
    "dfTest[\"sigmaPtRel1_std\"]=statDictionary[\"std\"]/(dfTest[\"Larm\"]**1.5)\n",
    "#\n",
    "predictRFL=predictRFStat(regressorRFL,dfTest[resolParam].to_numpy(dtype=np.float32),statDictionary,n_jobs)\n",
    "dfTest[\"sigmaPtRelL_Mean1\"]=np.exp(regressorRF1.predict(dfTest[resolParam]))/(dfTest[\"Larm\"]**1.5)\n",
    "dfTest[\"sigmaPtRelL_Mean\"]=np.exp(statDictionary[\"mean\"])/(dfTest[\"Larm\"]**1.5)\n",
    "dfTest[\"sigmaPtRelL_Median\"]=np.exp(statDictionary[\"median\"])/(dfTest[\"Larm\"]**1.5)\n",
    "dfTest[\"sigmaPtRelL_std\"]=np.exp(statDictionary[\"std\"])/(dfTest[\"Larm\"]**1.5)\n",
    "#\n",
    "print(\"sigmaPtRel0_Mean\",(np.log(dfTest[\"sigmaPtRel0\"]/dfTest[\"sigmaPtRel0_Mean\"])).std())\n",
    "print(\"sigmaPtRel1_Mean\",(np.log(dfTest[\"sigmaPtRel0\"]/dfTest[\"sigmaPtRel1_Mean\"])).std())\n",
    "print(\"sigmaPtRelL_Mean\",(np.log(dfTest[\"sigmaPtRel0\"]/dfTest[\"sigmaPtRelL_Mean\"])).std())\n",
    "#print(\"sigmaPtRelE_Mean\",(np.log(dfTest[\"sigmaPtRel0\"]/dfTest[\"sigmaPtRelE_Mean\"])).std())\n",
    "\n",
    "print(\"sigmaPtRel0_Median\",(np.log(dfTest[\"sigmaPtRel0\"]/dfTest[\"sigmaPtRel0_Median\"])).std())\n",
    "print(\"sigmaPtRel1_Median\",(np.log(dfTest[\"sigmaPtRel0\"]/dfTest[\"sigmaPtRel1_Median\"])).std())\n",
    "print(\"sigmaPtRelL_Median\",(np.log(dfTest[\"sigmaPtRel0\"]/dfTest[\"sigmaPtRelL_Median\"])).std())\n",
    "#print(\"sigmaPtRelE_Median\",(np.log(dfTest[\"sigmaPtRel0\"]/dfTest[\"sigmaPtRelE_Median\"])).std())"
   ]
  },
  {
   "cell_type": "code",
   "execution_count": null,
   "metadata": {},
   "outputs": [],
   "source": [
    "# print mean resol\n",
    "print(\"sigmaPtRel0_Mean\",(np.log(dfRes[\"sigmaPtRel0\"]/dfRes[\"sigmaPtRel0_Mean\"])).std())\n",
    "print(\"sigmaPtRel1_Mean\",(np.log(dfRes[\"sigmaPtRel0\"]/dfRes[\"sigmaPtRel1_Mean\"])).std())\n",
    "print(\"sigmaPtRelL_Mean\",(np.log(dfRes[\"sigmaPtRel0\"]/dfRes[\"sigmaPtRelL_Mean\"])).std())\n",
    "print(\"sigmaPtRelE_Mean\",(np.log(dfRes[\"sigmaPtRel0\"]/dfRes[\"sigmaPtRelE_Mean\"])).std())\n",
    "\n",
    "print(\"sigmaPtRel0_Median\",(np.log(dfRes[\"sigmaPtRel0\"]/dfRes[\"sigmaPtRel0_Median\"])).std())\n",
    "print(\"sigmaPtRel1_Median\",(np.log(dfRes[\"sigmaPtRel0\"]/dfRes[\"sigmaPtRel1_Median\"])).std())\n",
    "print(\"sigmaPtRelL_Median\",(np.log(dfRes[\"sigmaPtRel0\"]/dfRes[\"sigmaPtRelL_Median\"])).std())\n",
    "print(\"sigmaPtRelE_Median\",(np.log(dfRes[\"sigmaPtRel0\"]/dfRes[\"sigmaPtRelE_Median\"])).std())"
   ]
  },
  {
   "cell_type": "code",
   "execution_count": null,
   "metadata": {},
   "outputs": [],
   "source": [
    "import scipy.stats as stats\n",
    "stats.mstats.trimmed_std(np.log(dfTest[\"sigmaPtRel0\"]/dfTest[\"sigmaPtRel1_Median\"]),limits=(0.05,0.05))"
   ]
  },
  {
   "cell_type": "code",
   "execution_count": null,
   "metadata": {},
   "outputs": [],
   "source": [
    "import seaborn as sns\n",
    "import matplotlib.pyplot as plt\n",
    "#rfVars=['sigmaPtRel1_Mean','sigmaPtRel1_Median']\n",
    "#dfRes[\"sigmaPtRel1_Median\"]\n",
    "#dfRes[\"sigmaPtRel0\"].hist(range=[-0.,0.5],bins=100)\n",
    "(np.log(dfTest[\"sigmaPtRel0\"]/dfTest[\"sigmaPtRel1_Median\"])).hist(range=[-0.5,0.5],bins=100)\n",
    "\n",
    "#dfRes.query(\"sigmaPtRel1_std<0.3&sigmaPtRelL_Median<0.1\").plot.scatter(x=[\"sigmaPtRelL_Median\"],y=[\"sigmaPtRel0\"],figsize=(30, 10),grid=True)\n",
    "dfRes.query(\"sigmaPtRel1_std<0.3&sigmaPtRel1_Median<0.2\").plot.scatter(x=[\"sigmaPtRel1_Mean\"],y=[\"sigmaPtRelL_Mean\"],figsize=(30, 10),grid=True)\n",
    "#dfRes.plot(x=\"tglMC\",y=\"tglMC\",figsize=(30, 6),grid=True)\n",
    "#dfResML.plot(x=\"sigmaPtRel1_Median\", y=\"sigmaPtRel1_Median\")"
   ]
  },
  {
   "cell_type": "code",
   "execution_count": null,
   "metadata": {},
   "outputs": [],
   "source": [
    "dfResMLDraw=dfRes\n",
    "dfResMLDraw[\"FitRatioRF0\"]=dfResMLDraw.eval(\"log(sigmaPtRel0/sigmaPtRel0_Median)\")\n",
    "dfResMLDraw[\"FitRatioRF1\"]=dfResMLDraw.eval(\"log(sigmaPtRel0/sigmaPtRel1_Median)\")\n",
    "dfResMLDraw[\"FitRatioRF\"]=dfResMLDraw.eval(\"log(sigmaPtRel0/sigmaPtRel1_Median)\")\n",
    "dfResMLDraw[\"FitRatioRFC\"]=abs()"
   ]
  },
  {
   "cell_type": "code",
   "execution_count": null,
   "metadata": {},
   "outputs": [],
   "source": []
  },
  {
   "cell_type": "markdown",
   "metadata": {},
   "source": [
    "## Resolution plot - outliers in covariance matrix could be too small\n",
    "* resolution at layer 0 as obtained by covariance matrix \n",
    "* problem similar in 2 rotation schema\n",
    "  * rotate to local after each propagation\n",
    "  * only one rotation\n",
    "  \n",
    "###resolParam=[\"meanptMCInv\",\"meandEdxExpInv\",\"X0Norm\",\"tglMC\",\"Larm\",\"sigmaRPhi\"]  "
   ]
  },
  {
   "cell_type": "code",
   "execution_count": null,
   "metadata": {},
   "outputs": [],
   "source": [
    "arrayCompressionRelative10=[(\".*\",[(\"relative\",10), (\"code\",0), (\"zip\",0), (\"base64\",0)])]\n",
    "arrayCompressionRelative8=[(\".*\",[(\"relative\",8), (\"code\",0), (\"zip\",0), (\"base64\",0)])]\n",
    "output_file(\"fastSimulDisplayResolution.html\")\n",
    "dfResMLDraw=dfResML\n",
    "# derived variables\n",
    "\n",
    "#dfResMLDraw[\"FitRatioRF\"]=dfResMLDraw.eval(\"log(sigmaPtRel0/RF)\")\n",
    "dfResMLDraw[\"pMC\"]=dfResMLDraw.eval(\"sqrt(1+tglMC**2)*ptMC\")\n",
    "dfResMLDraw[\"Beta\"]=dfResMLDraw.eval(\"sqrt(pMC**2/(pMC**2+fMassMC**2))\")\n",
    "# qpt scaling\n",
    "dfResMLDraw[\"qptResolHPT\"]=dfResMLDraw.eval(\"(sigmaRPhi+0.0001)*sqrt(720./(Larm+4))/(0.3*0.5*(Larm)**(2.))\")\n",
    "dfResMLDraw[\"qptResolLPT\"]=dfResMLDraw.eval(\"X0Norm*(0.2*0.5/Beta)*sqrt(Larm)\")\n",
    "# pt scaling\n",
    "dfResMLDraw[\"ptResolHPT\"]=dfResMLDraw.eval(\"(abs(1/qPt)*0.01*(sigmaRPhi+0.0001)*sqrt(720./(Larm+4))/(0.3*0.5*(Larm/100.)**(2.)))\")\n",
    "dfResMLDraw[\"ptResolHPT0\"]=dfResMLDraw.eval(\"(sigmaRPhi+0.0001)/((Larm/100.)**2.5)\")\n",
    "dfResMLDraw[\"ptResolLPT\"]=dfResMLDraw.eval(\"(0.2*0.5/Beta)*sqrt(Larm/100.)\")\n",
    "dfResMLDraw[\"FitRatioHPT\"]=dfResMLDraw.eval(\"log(0+sigmaPtRel0/ptResolHPT)\")\n",
    "dfResMLDraw[\"FitRatioLPT\"]=dfResMLDraw.eval(\"log(0+sigmaPtRel0/ptResolLPT)\")\n",
    "\n",
    "# define categorical\n",
    "dfResMLDraw[\"isHighPt\"]=dfResMLDraw.eval(\"ptMC>2\")\n",
    "dfResMLDraw[\"X0NormC\"]=dfResMLDraw[\"X0Norm\"].astype(\"int\").astype(\"category\")\n",
    "dfResMLDraw[\"sigmaRPhiC\"]=dfResMLDraw.eval(\"sigmaRPhi/0.025\").astype(\"int\").astype(\"category\")\n",
    "#remove infinities\n",
    "dfResMLDraw.loc[ abs(dfResMLDraw.FitRatioHPT)==np.inf]=0\n",
    "# define residulas between resolutio and expectation\n",
    "#dfResMLDraw[\"sigmaPtRel0\"]=dfResMLDraw.eval(\"sigmaPtRel0/sigmaPtRel0RF\")"
   ]
  },
  {
   "cell_type": "code",
   "execution_count": null,
   "metadata": {},
   "outputs": [],
   "source": [
    "# some command to check infinities\n",
    "#dfResMLDraw['FitRatioHPT'] = np.replace(dfResMLDraw['FitRatioHPT'],np.inf, 0)\n",
    "#dfResMLDraw.loc[ abs(dfResMLDraw.FitRatioHPT)==np.inf]\n",
    "#(abs(dfResMLDraw['FitRatioHPT'])==np.inf).sum()\n"
   ]
  },
  {
   "cell_type": "code",
   "execution_count": null,
   "metadata": {},
   "outputs": [],
   "source": [
    "parameterArray = [\n",
    "    {\"name\": \"colorZPt\", \"value\":\"Larm\", \"options\":[\"dEdxExp\",\"X0Norm\",\"pidCode\",\"Larm\",\"ptMC\",\"ptResolHPT\",\"ptResolLPT\",\"sigmaRPhi\",\"ptResolHPT0\",\"isSecondary\"]},\n",
    "    {\"name\": \"colorZqPt\", \"value\":\"Larm\", \"options\":[\"dEdxExp\",\"X0Norm\",\"pidCode\",\"Larm\",\"ptMC\",\"ptResolHPT\",\"ptResolLPT\",\"sigmaRPhi\"]},\n",
    "    {\"name\": \"markerSize\", \"value\":7, \"range\":[0, 30]},\n",
    "    {\"name\": \"legendFontSize\", \"value\":\"13px\", \"options\":[\"9px\", \"11px\", \"13px\", \"15px\", \"17px\", \"19px\"]},  \n",
    "]\n",
    "\n",
    "widgetParams=[\n",
    "    #\n",
    "    ['select',[\"colorZPt\"], {\"callback\": \"parameter\", \"default\": 2}],\n",
    "    ['slider',[\"markerSize\"], {\"callback\": \"parameter\"}],\n",
    "    ['select',[\"legendFontSize\"], {\"callback\": \"parameter\", \"default\": 2}],\n",
    "    #infironment\n",
    "    ['range', ['sqrt(dEdxExp)']],\n",
    "    ['range', ['meandEdxExpInv']],\n",
    "    ['range', ['X0Norm']],\n",
    "    ['range', ['pidCode']],\n",
    "    ['range', ['sigmaRPhi']],\n",
    "    #\n",
    "    ['range', ['ptMC']],\n",
    "    ['range', ['qPt']],\n",
    "    ['range', ['tglMC']],\n",
    "    ['range', ['Larm']],\n",
    "    #\n",
    "    [\"range\", ['FitRatioRF']],\n",
    "    [\"range\", ['FitRatioHPT']],\n",
    "    [\"range\", ['ptResolHPT']],\n",
    "    [\"range\", ['snp0']],\n",
    "    #\n",
    "    ['multiSelect',[\"isSecondary\"]],\n",
    "    ['multiSelect',[\"isHighPt\"]],\n",
    "    ['multiSelect',[\"dir1\"]],\n",
    "    ['multiSelect',[\"X0NormC\"]],\n",
    "    ['multiSelect',[\"sigmaRPhiC\"]],\n",
    "    ['multiSelect',[\"pidCode\"]],\n",
    "#    ['multiSelect',[\"sigmaRPhiC\"]],\n",
    "    #dummy\n",
    "]\n",
    "widgetLayoutDescT0=[  \n",
    "                    [3,4,5,6,7],\n",
    "                    [8,9,10,11],\n",
    "                    [12,13,14,15],\n",
    "                     [16,17,18,19,20,21],\n",
    "                    {'sizing_mode':'scale_width',\"legend_visible\":True} ]\n",
    "widgetLayoutDesc={\n",
    "    \"Selection\": widgetLayoutDescT0,\n",
    "    \"Graphics\": [[0,1,2], {'sizing_mode': 'scale_width'}]\n",
    "}"
   ]
  },
  {
   "cell_type": "code",
   "execution_count": null,
   "metadata": {},
   "outputs": [],
   "source": [
    "histoArray = [\n",
    "    #\n",
    "    {\"name\": \"histoqPtLarm\", \"variables\": [\"sigmaPtRel0\",\"Larm\"], \"nbins\": [50,20]},\n",
    "    {\"name\": \"histoqPtSRPhi\", \"variables\": [\"sigmaPtRel0\",\"sigmaRPhi\"], \"nbins\": [50,20]},\n",
    "    #\n",
    "    {\"name\": \"histoqPt\", \"variables\": [\"qPt\"], \"nbins\": 50},\n",
    "    {\"name\": \"histoFitRatioRF\", \"variables\": [\"FitRatioRF\"], \"nbins\": 50},\n",
    "    {\"name\": \"histoFitRatioHPT\", \"variables\": [\"FitRatioHPT\"], \"nbins\": 50},\n",
    "    {\"name\": \"histoFitRatioLPT\", \"variables\": [\"FitRatioLPT\"], \"nbins\": 50},\n",
    "    #\n",
    "]\n",
    "\n",
    "figureArray = [\n",
    "    # tab 0: pt:qpt resolution :\n",
    "    [['qPt'], ['sigmaPtRel0'], {\"colorZvar\":\"colorZPt\"}],\n",
    "    [['qPt'], ['sigmaPtRel1_Median'], {\"colorZvar\":\"colorZPt\"}],\n",
    "    [['qPt'], ['ptResolHPT'], {\"colorZvar\":\"colorZPt\"}],\n",
    "    [['qPt'], ['ptResolLPT'], {\"colorZvar\":\"colorZPt\"}],\n",
    "    # tab1: pt:pt resolution\n",
    "    [['ptMC'], ['sigmaPtRel0'], {\"colorZvar\":\"colorZPt\"}],\n",
    "    [['ptMC'], ['sigmaPtRel1_Median'], {\"colorZvar\":\"colorZPt\"}],\n",
    "    [['ptMC'], ['ptResolHPT'], {\"colorZvar\":\"colorZPt\"}],\n",
    "    [['ptMC'], ['ptResolLPT'], {\"colorZvar\":\"colorZPt\"}],\n",
    "    # tab2 : qpt:pt resolution\n",
    "    [['ptMC'], ['sigmaqPt0'], {\"colorZvar\":\"colorZPt\"}],\n",
    "    [['ptMC'], ['sigmaPtRel1_Median'], {\"colorZvar\":\"colorZPt\"}],\n",
    "    [['ptMC'], ['qptResolHPT'], {\"colorZvar\":\"colorZPt\"}],\n",
    "    [['ptMC'], ['qptResolLPT'], {\"colorZvar\":\"colorZPt\"}],\n",
    "    # tab3; sigmaqPt scaling\n",
    "    [['Larm**(-2.5)'], ['sigmaqPt0/sigmaRPhi'], {\"colorZvar\":\"colorZPt\"}],\n",
    "    [['sigmaRPhi'], ['sigmaqPt0*(Larm**(2.5))'], {\"colorZvar\":\"colorZPt\"}],\n",
    "    [['Larm'], ['(sigmaqPt0/sigmaRPhi)*(Larm**(2.5))'], {\"colorZvar\":\"colorZPt\"}],\n",
    "    [['sigmaRPhi'], ['(sigmaqPt0/sigmaRPhi)*(Larm**(2.5))'], {\"colorZvar\":\"colorZPt\"}],\n",
    "    # tab4; sigmaPtRel scaling  (LArm, dEdxExp, 1/pt, X0)\n",
    "    [['Larm'], ['(sigmaPtRel0/sqrt(X0Norm))*Larm'], {\"colorZvar\":\"colorZPt\"}],\n",
    "    [['X0Norm'], ['(sigmaPtRel0/sqrt(X0Norm))*Larm'], {\"colorZvar\":\"colorZPt\"}],\n",
    "    [['sqrt(dEdxExp)'], ['(sigmaPtRel0/sqrt(X0Norm))*Larm'], {\"colorZvar\":\"colorZPt\"}],\n",
    "    [['1/ptMC'], ['(sigmaPtRel0/sqrt(X0Norm))*Larm'], {\"colorZvar\":\"colorZPt\"}],\n",
    "    #[['1/ptMC'], ['(sigmaPtRel0/sqrt(X0Norm))*Larm'], {\"colorZvar\":\"colorZPt\"}],\n",
    "    #\n",
    "    [['qPt'], ['FitRatioRF'], {\"colorZvar\":\"pidCode\"}],\n",
    "    [['qPt'], ['FitRatioHPT'], {\"colorZvar\":\"pidCode\"}],\n",
    "    [['qPt'], ['FitRatioLPT'], {\"colorZvar\":\"pidCode\"}],\n",
    "    #\n",
    "    [[\"qPt\"],[\"histoqPt\"],{}],\n",
    "    [[\"FitRatioRF\"],[\"histoFitRatioRF\"],{}],\n",
    "    [[\"FitRatioHPT\"],[\"histoFitRatioHPT\"],{}],\n",
    "    [[\"FitRatioLPT\"],[\"histoFitRatioLPT\"],{}],\n",
    "    [\"tableHisto\", {\"rowwise\": False}],\n",
    "    ['table'],\n",
    "    {\"size\": 5}\n",
    "]\n",
    "\n",
    "tooltips = [(\"qPt\",\"@qPt\"),(\"sigmaRPhi\",\"@sigmaRPhi\")]\n",
    "figureLayoutDescT0=[ [0,1,  {'plot_height':200, \"commonX\":3}],     [2,3,  {'plot_height':200, \"commonX\":3}],       {'plot_height':200,'sizing_mode':'scale_width',\"legend_visible\":True}]\n",
    "figureLayoutDescT1=[ [4,5,  {'plot_height':200, \"commonX\":7}],     [6,7,  {'plot_height':200, \"commonX\":7}],       {'plot_height':200,'sizing_mode':'scale_width',\"legend_visible\":True}]\n",
    "figureLayoutDescT2=[ [8,9,  {'plot_height':200, \"commonX\":11}],    [10,11,  {'plot_height':200, \"commonX\":11}],        {'plot_height':200,'sizing_mode':'scale_width',\"legend_visible\":True} ]\n",
    "figureLayoutDescT3=[ [12,13,  {'plot_height':200}],    [14,15,  {'plot_height':200}],        {'plot_height':200,'sizing_mode':'scale_width',\"legend_visible\":True} ]\n",
    "figureLayoutDescT4=[ [16,17,  {'plot_height':200}],    [18,19,  {'plot_height':200}],        {'plot_height':200,'sizing_mode':'scale_width',\"legend_visible\":True} ]\n",
    "\n",
    "#\n",
    "figureLayoutDesc={\n",
    "    \"pt:qpt Resol tab\": figureLayoutDescT0,\n",
    "    \"pt:pt Resol  tab\": figureLayoutDescT1,\n",
    "    \"qpt:pt Resol tab\": figureLayoutDescT2,\n",
    "    \"qpt: scaling Resol (high pt variables)\": figureLayoutDescT3,\n",
    "    \"qpt: scaling Resol (low pt scaling)\": figureLayoutDescT4,\n",
    "    #\"Histos\": figureLayoutDescT2, \n",
    "}\n",
    "output_file(\"fastSimulDisplayResolution.html\")\n",
    "\n",
    "\n",
    "figC=bokehDrawSA.fromArray(dfResMLDraw, \"fMaxLayer>=0&ptMC<50&Larm>5\", figureArray, widgetParams,layout=figureLayoutDesc,tooltips=tooltips,sizing_mode='scale_width',widgetLayout=widgetLayoutDesc,nPointRender=8000,\n",
    "                           rescaleColorMapper=True,arrayCompression=arrayCompressionRelative8,histogramArray=histoArray,parameterArray=parameterArray)\n",
    "#figC=bokehDrawSA.fromArray(dfResMLDraw.sample(1000), \"fMaxLayer>=0&ptMC<50&Larm>5\", figureArray, widgetParams,layout=figureLayoutDesc,tooltips=tooltips,sizing_mode='scale_width',widgetLayout=widgetLayoutDesc,nPointRender=2000,\n",
    "#                           rescaleColorMapper=True,histogramArray=histoArray,parameterArray=parameterArray)\n"
   ]
  },
  {
   "cell_type": "code",
   "execution_count": null,
   "metadata": {},
   "outputs": [],
   "source": [
    "dfResMLDraw[1515:1520].head"
   ]
  },
  {
   "cell_type": "code",
   "execution_count": null,
   "metadata": {},
   "outputs": [],
   "source": [
    "dfResMLDraw[\"pMC\"]=dfResMLDraw.eval(\"sqrt(1+tglMC**2)*ptMC\")\n",
    "dfResMLDraw[\"Beta\"]=dfResMLDraw.eval(\"sqrt(pMC**2/(pMC**2+fMassMC**2))\")\n",
    "dfResMLDraw[\"ptResolLPT\"]=dfResMLDraw.eval(\"(0.2*0.5/Beta)*sqrt(Larm/100.)\")"
   ]
  },
  {
   "cell_type": "code",
   "execution_count": null,
   "metadata": {},
   "outputs": [],
   "source": [
    "dfResMLDraw[\"ptResolHPT\"]=dfResMLDraw.eval(\"(abs(1/qPt)*(sigmaRPhi+0.01)*sqrt(720./(Larm+4.))/(0.3*0.5*(Larm/100.)**2.))\")"
   ]
  },
  {
   "cell_type": "code",
   "execution_count": null,
   "metadata": {},
   "outputs": [],
   "source": [
    "(dfResMLDraw[\"FitRatioLPT\"][1515:1520]==-np.inf)\n",
    "np.nan_to_num((dfResMLDraw[\"FitRatioLPT\"][1515:1520]),0)==-np.inf"
   ]
  },
  {
   "cell_type": "code",
   "execution_count": null,
   "metadata": {},
   "outputs": [],
   "source": []
  },
  {
   "cell_type": "markdown",
   "metadata": {},
   "source": [
    "# Fast prototyping part"
   ]
  },
  {
   "cell_type": "code",
   "execution_count": null,
   "metadata": {},
   "outputs": [],
   "source": [
    "import seaborn as sns\n",
    "import matplotlib.pyplot as plt\n",
    "rfVars=['sigmaPtRel1_Mean','sigmaPtRel1_Median']\n",
    "#dfResML[\"sigmaPtRel1_Median\"]\n",
    "#dfResML.plot(x=\"sigmaPtRel1_Median\", y=\"sigmaPtRel1_Median\",figsize=(30, 6), grid=True)\n",
    "dfResML.plot(x=\"sigmaPtRel1_Median\", y=\"sigmaPtRel1_Median\")\n"
   ]
  },
  {
   "cell_type": "code",
   "execution_count": null,
   "metadata": {},
   "outputs": [],
   "source": [
    "dfResML[\"sigmaPtRel1_Median\"]"
   ]
  },
  {
   "cell_type": "code",
   "execution_count": null,
   "metadata": {},
   "outputs": [],
   "source": [
    "dfResML.plot?"
   ]
  },
  {
   "cell_type": "code",
   "execution_count": null,
   "metadata": {},
   "outputs": [],
   "source": [
    "\n",
    "dfResMLDraw[\"ptResolHPT\"]=dfResMLDraw.eval(\"(abs(1/qPt)*sigmaRPhi*sqrt(720.)/(0.5*Larm**(2.5)))\")"
   ]
  },
  {
   "cell_type": "code",
   "execution_count": null,
   "metadata": {},
   "outputs": [],
   "source": [
    "dfResMLDraw[\"X0Norm\"].hist()"
   ]
  },
  {
   "cell_type": "code",
   "execution_count": null,
   "metadata": {},
   "outputs": [],
   "source": [
    "dfResMLDraw"
   ]
  },
  {
   "cell_type": "markdown",
   "metadata": {},
   "source": [
    "# Debug section"
   ]
  },
  {
   "cell_type": "code",
   "execution_count": null,
   "metadata": {},
   "outputs": [],
   "source": [
    "tree.Draw(\"LArm\",\"Larm>5&&ptMC>10&&(!isSecondary)\",\"prof\")"
   ]
  },
  {
   "cell_type": "markdown",
   "metadata": {},
   "source": [
    "# Resolution scaling test -high pt"
   ]
  },
  {
   "cell_type": "code",
   "execution_count": null,
   "metadata": {},
   "outputs": [],
   "source": []
  },
  {
   "cell_type": "code",
   "execution_count": null,
   "metadata": {},
   "outputs": [],
   "source": [
    "# t1. Resolution scaling does not work at all for secondaries\n",
    "# t2. Resolution scaling works like expected (L**2.5) down to Larm 100 cm, below it is breaking in case fiitCut used 'ptMC>0.01&&Larm>30&&sigmaPtRel0<0.5&&fMaxLayer>2'\n",
    "# t3.  Resolution scaling works like expected (L**2.5) over all LArm region 10-250 cm \n",
    "#t1.\n",
    "#tree.Draw(\"sigmaqPt0*(sigmaRPhi+0.001)*Larm**2.5:Larm>>hisLArm(25,0,250)\",\"Larm>5&&ptMC>10&&(isSecondary)\",\"prof\")\n",
    "#t2.\n",
    "#tree.Draw(\"sigmaqPt0*(sigmaRPhi+0.001)*Larm**2.5:Larm>>hisLArm(25,0,250)\",\"Larm>5&&ptMC>10&&(!isSecondary)&&fitCut\",\"prof\")\n",
    "#t3.\n",
    "tree.Draw(\"sigmaqPt0*(sigmaRPhi+0.001)*Larm**2.5:Larm>>hisLArm(25,0,250)\",\"Larm>5&&ptMC>10&&(!isSecondary)\",\"prof\")\n",
    "\n",
    "c.Draw(\"\")"
   ]
  },
  {
   "cell_type": "markdown",
   "metadata": {},
   "source": [
    "# low pt scaling test\n",
    "* sigmaPtRel0*Larm "
   ]
  },
  {
   "cell_type": "code",
   "execution_count": null,
   "metadata": {},
   "outputs": [],
   "source": [
    "# t1)  proportianal to 1/Larm\n",
    "#tree.Draw(\"sigmaPtRel0/(1/Larm) :Larm\",\"Larm>40&&ptMC<2&&(!isSecondary)\",\"prof\")\n",
    "#t2) proportional to \n",
    "tree.Draw(\"sigmaPtRel0*sqrt(Larm):sqrt(X0Norm)\",\"Larm>20&&ptMC<2&&(!isSecondary)\",\"prof\")\n",
    "#tree.Draw(\"sigmaPtRel0/(X0Norm*sqrt(dEdxExp)/Larm):X0Norm*sqrt(dEdxExp)\",\"Larm>40&&ptMC<1&&(!isSecondary)\",\"prof\")\n",
    "# t3) proportional to X0Norm*sqrt(dEdxExp)\n",
    "\n",
    "c.Draw(\"\")"
   ]
  },
  {
   "cell_type": "code",
   "execution_count": null,
   "metadata": {},
   "outputs": [],
   "source": [
    "tree.GetEntries()"
   ]
  },
  {
   "cell_type": "code",
   "execution_count": null,
   "metadata": {},
   "outputs": [],
   "source": [
    "tree.GetAlias(\"fitCut\")"
   ]
  },
  {
   "cell_type": "code",
   "execution_count": null,
   "metadata": {},
   "outputs": [],
   "source": [
    "dfResMLDraw[\"dEdxExp\"].hist()"
   ]
  },
  {
   "cell_type": "code",
   "execution_count": null,
   "metadata": {},
   "outputs": [],
   "source": [
    "tree.SetAlias(\"meandMSA\",\"part.getMean(2+0,0,1)\");\n",
    "tree.SetAlias(\"meandMSB\",\"part.getMean(2+0,0,0.2)\");\n",
    "tree.Draw(\"sigmaqPt0*Larm:sqrt(part.getMean(4+0,0,0.5)*X0Norm):fMassMC\",\"Larm>5&&ptMC<1&&Larm<250&&sigmaPtRel0<1&&(!isSecondary)&&sqrt(part.getMean(4+0,0,0.9))<150&&fMassMC<1\",\"colz\",10000)\n",
    "#tree.Draw(\"sigmaqPt0*sqrt(Larm)/sqrt(part.getMean(4+0,0,0.8)):sqrt(part.getMean(4+0,0,0.8))\",\"Larm>5&&ptMC<1&&Larm<300&&sigmaPtRel0<1&&(!isSecondary)&&sqrt(part.getMean(4+0,0,0.9))<150&&fMassMC<1\",\"prof\",10000)\n",
    "#tree.Draw(\"sqrt(part.getMean(3+0,0,0.9))/part.getMean(0+0,0,0.9):sqrt(part.getMean(4+0,0,0.9)):fPdgCodeMC\",\"Larm>4&&ptMC<1&&Larm>50&&sigmaPtRel0<1&&(!isSecondary)&&sqrt(part.getMean(4+0,0,0.6))<150\",\"colz\",10000)\n",
    "#tree.Draw(\"sigmaqPt0*sqrt(X0Norm*Larm)\",\"Larm>10&&ptMC<1&&Larm<50&&sigmaPtRel0<1&&(!isSecondary)&&sqrt(part.getMean(4+0,0,0.9))<150&&fMassMC<1\",\"colz\",10000)\n",
    "tree.GetHistogram().Fit(\"pol1\")\n",
    "c.Draw(\"\")"
   ]
  },
  {
   "cell_type": "markdown",
   "metadata": {},
   "source": [
    "# Secondary debugging:\n",
    "* track looks to be stack\n",
    "* status to be checked \n",
    "*  in case connection lost -   kTrackUpdate =0x8, \n",
    "*  sometime not all points used in refit - sometimes ==0\n",
    "*  gdb: \n"
   ]
  },
  {
   "cell_type": "code",
   "execution_count": null,
   "metadata": {},
   "outputs": [],
   "source": [
    "tree.SetAlias(\"isOK\",\"part.fStatusMaskIn.fData[1]==31&&part.fLengthIn>100\");\n",
    "\n",
    "\n",
    "tree.Draw(\"sigmaqPt0:fLengthIn:sigmaRPhi\",\"!isSecondary&&ptMC>4&&fLengthIn>100&&isOK\",\"colz\",10000)                      # nonsece pt pt depdence\n",
    "# tree.Draw(\"sigmaqPt0:part.fParamIn[1].fX\",\"isSecondary&&ptMC>4&&Larm>150\",\"\",10000)\n",
    "# tree.Draw(\"part.fParamIn.fX-part.fParamMC.fX\",\"isSecondary&&ptMC>4&&Larm>150\",\"\",10000)   #in 30 % of cases mismath in position, in MC data\n",
    "#tree.Draw(\"part.fStatusMaskIn.fData[2]\",\"isSecondary&&ptMC>4&&Larm>150\",\"\",10000)          # in 20 % of case -update failed\n",
    "c.Draw()"
   ]
  },
  {
   "cell_type": "code",
   "execution_count": null,
   "metadata": {},
   "outputs": [],
   "source": [
    "tree.GetAlias(\"sigmaqPt0\")"
   ]
  },
  {
   "cell_type": "code",
   "execution_count": null,
   "metadata": {},
   "outputs": [],
   "source": [
    "tree.Draw(\"sqrt(part.fParamIn[0].fC[14])*(Larm**2.5)/sigmaRPhi:part.fParamIn[0].fP[2]\",\"ptMC>5&&(isSecondary)&&Larm>50&&sigmaRPhi>0.02\",\"prof\")\n",
    "c.Draw()"
   ]
  },
  {
   "cell_type": "code",
   "execution_count": null,
   "metadata": {},
   "outputs": [],
   "source": [
    "tree.Draw(\"(fLengthIn-Larm)>3\",\"!isSecondary\")\n",
    "c.Draw()"
   ]
  },
  {
   "cell_type": "code",
   "execution_count": null,
   "metadata": {},
   "outputs": [],
   "source": [
    "tree.Show(0)"
   ]
  },
  {
   "cell_type": "code",
   "execution_count": null,
   "metadata": {},
   "outputs": [],
   "source": [
    "tree.Draw(\"getStat(2):getStat(1)\",\"!isSecondary\")\n",
    "c.Draw()"
   ]
  },
  {
   "cell_type": "code",
   "execution_count": null,
   "metadata": {},
   "outputs": [],
   "source": []
  }
 ],
 "metadata": {
  "kernelspec": {
   "display_name": "Python 3.8.10 64-bit",
   "language": "python",
   "name": "python3"
  },
  "language_info": {
   "codemirror_mode": {
    "name": "ipython",
    "version": 3
   },
   "file_extension": ".py",
   "mimetype": "text/x-python",
   "name": "python",
   "nbconvert_exporter": "python",
   "pygments_lexer": "ipython3",
   "version": "3.8.10"
  },
  "vscode": {
   "interpreter": {
    "hash": "916dbcbb3f70747c44a77c7bcd40155683ae19c65e1c03b4aa3499c5328201f1"
   }
  }
 },
 "nbformat": 4,
 "nbformat_minor": 2
}
