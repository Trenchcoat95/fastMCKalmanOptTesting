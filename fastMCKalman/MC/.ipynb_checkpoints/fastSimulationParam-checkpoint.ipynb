{
 "cells": [
  {
   "cell_type": "markdown",
   "metadata": {},
   "source": [
    "# Fast simulation perfromance parameterization \n",
    "Expert  configurable event display for fast simulzation studies  \n",
    "\n",
    "\n",
    "## Contents \n",
    "[Import modules](#import) <br>\n",
    "[Load trees, set aliases](#load) <br>\n",
    "[XYZ display pt](#XYZdisplayPt) <br>\n",
    "[XYZ display pt](#XYZdisplaytrack) <br>"
   ]
  },
  {
   "cell_type": "code",
   "execution_count": 1,
   "metadata": {},
   "outputs": [
    {
     "name": "stdout",
     "output_type": "stream",
     "text": [
      "Welcome to JupyROOT 6.20/08\n",
      "x bokehVisJS3DGraph.ts\n",
      "x HistogramCDS.ts\n",
      "x Histo2dCDS.ts\n",
      "Import  CDSCompress.ts\n"
     ]
    },
    {
     "name": "stderr",
     "output_type": "stream",
     "text": [
      "/usr/local/lib/python3.6/dist-packages/sklearn/utils/deprecation.py:143: FutureWarning: The sklearn.ensemble.forest module is  deprecated in version 0.22 and will be removed in version 0.24. The corresponding classes / functions should instead be imported from sklearn.ensemble. Anything that cannot be imported from sklearn.ensemble is now part of the private API.\n",
      "  warnings.warn(message, FutureWarning)\n"
     ]
    }
   ],
   "source": [
    "from bokeh.io import output_notebook\n",
    "from RootInteractive.Tools.aliTreePlayer import *\n",
    "from RootInteractive.InteractiveDrawing.bokeh.bokehDrawSA import *\n",
    "from RootInteractive.Tools.aliTreePlayer import *\n",
    "from bokeh.io import curdoc\n",
    "import numpy as np\n",
    "import os\n",
    "import sys\n",
    "from ROOT import TFile, gSystem\n",
    "from RootInteractive.InteractiveDrawing.bokeh.bokehDrawSA import *\n",
    "from RootInteractive.MLpipeline.NDFunctionInterface import  DataContainer, Fitter, RandomForest\n",
    "import plotly.express as px\n",
    "import time\n",
    "import pickle\n",
    "from IPython.display import Image, clear_output\n",
    "from RootInteractive.InteractiveDrawing.bokeh.CDSCompress import *\n",
    "#\n",
    "from fastSimulation import *"
   ]
  },
  {
   "cell_type": "markdown",
   "metadata": {},
   "source": [
    "## 1.) Load trees and define derived variables:\n",
    "<a id='load'></a>"
   ]
  },
  {
   "cell_type": "markdown",
   "metadata": {},
   "source": [
    "* Covaraince matrix of Alice kalman track - stored as an array \n",
    "* ```(y,z,sing*phi),tgl(theta),qPt) -> (0,2,5,9,14)```\n",
    " * 0   \n",
    " * 1 2\n",
    " * 3 4 5 \n",
    " * 6 7 8 9\n",
    " * 10 11 12 13 14 "
   ]
  },
  {
   "cell_type": "code",
   "execution_count": 4,
   "metadata": {},
   "outputs": [],
   "source": [
    "#inputData = \"/home2/miranov/github/fastMCKalman/data/alice3/fastParticle.list\";\n",
    "#inputData = \"${fastMCKalman}/data/alice3/fastParticle.list\";\n",
    "inputData = \"/home/federico/Documents/Universita/Federico_2020-2021/Aliwork/fastMCKalman/data/testTPCSA/fastParticle.list\"\n",
    "#inputData = \"/home2/miranov/github/fastMCKalman/data/run2/fastParticle.list\";"
   ]
  },
  {
   "cell_type": "code",
   "execution_count": null,
   "metadata": {},
   "outputs": [],
   "source": [
    "ROOT.initTreeFast(inputData)\n",
    "tree=ROOT.treeFast"
   ]
  },
  {
   "cell_type": "code",
   "execution_count": null,
   "metadata": {},
   "outputs": [],
   "source": [
    "tree.SetMarkerStyle(25)\n",
    "tree.SetMarkerSize(0.5)\n",
    "ROOT.setAliases(tree)\n",
    "tree.SetAlias(\"qPt\",\"part.fParamMC[0].fP[4]\")\n",
    "tree.SetAlias(\"ptMC\",\"part.fParamMC[0].fData.Pt()\")\n",
    "tree.SetAlias(\"ptIn\",\"part.fParamIn[1].fData.Pt()\")\n",
    "tree.SetAlias(\"ptMCP\",\"part.fParamMC[].fData.Pt()\")\n",
    "tree.SetAlias(\"tglMC\",\"part.fParamMC[0].fP[3]\")\n",
    "tree.SetAlias(\"tglIn\",\"part.fParamIn[1].fP[3]\")\n",
    "#\n",
    "tree.SetAlias(\"sigmaY0\",\"sqrt(part.fParamIn[1].fC[0])\")\n",
    "tree.SetAlias(\"sigmaZ0\",\"sqrt(part.fParamIn[1].fC[2])\")\n",
    "tree.SetAlias(\"sigmaqPt0\",\"sqrt(part.fParamIn[1].fC[14])\")\n",
    "#\n",
    "tree.SetAlias(\"sigmaY0Rot\",\"sqrt(part.fParamInRot[1].fC[0])\")\n",
    "tree.SetAlias(\"sigmaZ0Rot\",\"sqrt(part.fParamInRot[1].fC[2])\")\n",
    "tree.SetAlias(\"sigmaqPt0Rot\",\"sqrt(part.fParamInRot[1].fC[14])\")\n",
    "#\n",
    "tree.SetAlias(\"gzMC\",\"(part.fParamMC[].fP[1])\")\n",
    "tree.SetAlias(\"gzIn\",\"(part.fParamIn[].fP[1])\")\n",
    "tree.SetAlias(\"rMC\",\"sqrt(gxMC**2+gyMC**2)\")\n",
    "tree.SetAlias(\"snpMC\",\"(part.fParamMC[].fP[2])\")\n",
    "tree.SetAlias(\"pIndex\",\"Iteration$\")\n",
    "tree.SetAlias(\"trackID\",\"i\")\n",
    "tree.SetAlias(\"snpMax\",\"abs(part.fParamMC[fMaxLayer].fP[2])\")\n",
    "#\n",
    "tree.SetAlias(\"meanptMC\",\"part.getMean(0+0,0)\");\n",
    "tree.SetAlias(\"meanptMCInv\",\"part.getMean(1+0,0)\");\n",
    "tree.SetAlias(\"meandEdxExp\",\"part.getMean(2+0,0)\");\n",
    "tree.SetAlias(\"meandEdxExpInv\",\"part.getMean(3+0,0)\");\n",
    "tree.SetAlias(\"X0Norm\",\"geom.fLayerX0.fData[0]/7.8350968e-05\");\n",
    "tree.SetAlias(\"sigmaRPhi\",\"geom.fLayerResolRPhi.fData[0]\");\n",
    "tree.SetAlias(\"sigmaPtRel0\",\"sigmaqPt0*ptMC\");\n",
    "tree.SetAlias(\"sigmaPtRel0Mean\",\"sigmaqPt0/meanptMCInv\");\n",
    "#\n",
    "tree.SetAlias(\"fitCut\",\"ptMC>0.01&&Larm>30&&sigmaPtRel0<0.5\")\n"
   ]
  },
  {
   "cell_type": "code",
   "execution_count": null,
   "metadata": {},
   "outputs": [],
   "source": [
    "c=ROOT.TCanvas()"
   ]
  },
  {
   "cell_type": "code",
   "execution_count": null,
   "metadata": {},
   "outputs": [],
   "source": [
    "%%time\n",
    "tree.SetAlias(\"fitCut\",\"ptMC>0.01&&Larm>30&&sigmaPtRel0<0.5&&fMaxLayer>2\")\n",
    "defaultCutTrack=\"fitCut\"\n",
    "kineParam=[\"sigmaPtRel0\",\"qPt\",\"ptMC\",\n",
    "                           \"sigmaY0\",\"sigmaZ0\",\"sigmaqPt0\",\n",
    "                           \"sigmaY0Rot\",\"sigmaZ0Rot\",\"sigmaqPt0Rot\",\n",
    "                           \"pidCode\",\"isSecondary\",\"fMaxLayer\",\"dEdxExp\",\n",
    "                          \"snpMax\",\"fMassMC\"]\n",
    "resolParam=[\"meanptMCInv\",\"meandEdxExpInv\",\"X0Norm\",\"tglMC\",\"Larm\",\"sigmaRPhi\"]\n",
    "dfRes=tree2Panda(tree,kineParam+resolParam,\n",
    "                 defaultCutTrack,columnMask=[[\"_fElements\",\"\"]],nEntries=10000)\n"
   ]
  },
  {
   "cell_type": "code",
   "execution_count": null,
   "metadata": {},
   "outputs": [],
   "source": [
    "dfRes.shape"
   ]
  },
  {
   "cell_type": "code",
   "execution_count": null,
   "metadata": {},
   "outputs": [],
   "source": [
    "#dfRes[variableX].head(5)"
   ]
  },
  {
   "cell_type": "code",
   "execution_count": null,
   "metadata": {},
   "outputs": [],
   "source": [
    "%%time\n",
    "dfResML=dfRes\n",
    "npoints=dfRes.shape[0]\n",
    "varFit='sigmaPtRel0'\n",
    "variableX=resolParam\n",
    "dataContainer = DataContainer(dfResML, variableX, varFit, [npoints//2,npoints//2])\n",
    "fitter = Fitter(dataContainer)\n",
    "fitter.Register_Method('RF','RandomForest', 'Regressor', n_estimators=200, max_depth=12)\n",
    "fitter.Register_Method('RF_10','RandomForest', 'Regressor', n_estimators=200, max_depth=10)\n",
    "\n",
    "fitter.Fit()\n",
    "fitter.printImportance()\n",
    "#\n",
    "for method in ['RF' , 'RF_10']:    \n",
    "    dfResML= fitter.AppendOtherPandas(method,dfResML)\n",
    "fitter.AppendStatPandas(\"RF\",dfResML)\n",
    "dfResML=fitter.AppendStatPandas(\"RF_10\",dfResML)\n"
   ]
  },
  {
   "cell_type": "code",
   "execution_count": null,
   "metadata": {},
   "outputs": [],
   "source": [
    "dfResMLDraw=dfResML\n",
    "dfResMLDraw[\"FitRatio\"]=dfResMLDraw.eval(\"log(sigmaPtRel0/RF)\")"
   ]
  },
  {
   "cell_type": "code",
   "execution_count": null,
   "metadata": {},
   "outputs": [],
   "source": [
    "dfResML.columns"
   ]
  },
  {
   "cell_type": "markdown",
   "metadata": {},
   "source": [
    "## Resolution plot - outliers in covariance matrix could be too small\n",
    "* resolution at layer 0 as obtained by covariance matrix \n",
    "* problem similar in 2 rotation schema\n",
    "  * rotate to local after each propagation\n",
    "  * only one rotation\n",
    "  \n",
    "###resolParam=[\"meanptMCInv\",\"meandEdxExpInv\",\"X0Norm\",\"tglMC\",\"Larm\",\"sigmaRPhi\"]  "
   ]
  },
  {
   "cell_type": "code",
   "execution_count": null,
   "metadata": {},
   "outputs": [],
   "source": [
    "arrayCompressionRelative10=[(\".*\",[(\"relative\",10), (\"code\",0), (\"zip\",0), (\"base64\",0)])]\n",
    "arrayCompressionRelative8=[(\".*\",[(\"relative\",8), (\"code\",0), (\"zip\",0), (\"base64\",0)])]\n",
    "output_file(\"fastSimulDisplayResolution.html\")\n",
    "dfResMLDraw=dfResML\n",
    "#\n",
    "dfResMLDraw[\"FitRatio\"]=dfResMLDraw.eval(\"log(sigmaPtRel0/RF)\")\n",
    "dfResMLDraw[\"ptResolHPT\"]=dfResMLDraw.eval(\"(abs(1/qPt)*0.01*(sigmaRPhi+0.0001)*sqrt(720./(Larm+4))/(0.3*0.5*(Larm/100.)**(2.)))\")\n",
    "dfResMLDraw[\"ptResolHPT0\"]=dfResMLDraw.eval(\"(sigmaRPhi+0.0001)/((Larm/100.)**2.5)\")\n",
    "dfResMLDraw[\"pMC\"]=dfResMLDraw.eval(\"sqrt(1+tglMC**2)*ptMC\")\n",
    "dfResMLDraw[\"Beta\"]=dfResMLDraw.eval(\"sqrt(pMC**2/(pMC**2+fMassMC**2))\")\n",
    "dfResMLDraw[\"ptResolLPT\"]=dfResMLDraw.eval(\"(0.2*0.5/Beta)*sqrt(Larm/100.)\")\n",
    "dfResMLDraw[\"FitRatioHPT\"]=dfResMLDraw.eval(\"log(sigmaPtRel0/ptResolHPT)\")\n",
    "dfResMLDraw[\"FitRatioLPT\"]=dfResMLDraw.eval(\"log(sigmaPtRel0/ptResolLPT)\")\n",
    "# define categorical\n",
    "dfResMLDraw[\"isHighPt\"]=dfResMLDraw.eval(\"ptMC>2\")\n",
    "dfResMLDraw[\"X0NormC\"]=dfResMLDraw[\"X0Norm\"].astype(\"int\").astype(\"category\")\n",
    "dfResMLDraw[\"sigmaRPhiC\"]=dfResMLDraw.eval(\"sigmaRPhi/0.025\").astype(\"int\").astype(\"category\")"
   ]
  },
  {
   "cell_type": "code",
   "execution_count": null,
   "metadata": {},
   "outputs": [],
   "source": [
    "parameterArray = [\n",
    "    {\"name\": \"colorZPt\", \"value\":\"Larm\", \"options\":[\"dEdxExp\",\"X0Norm\",\"pidCode\",\"Larm\",\"ptResolHPT\",\"ptResolLPT\",\"sigmaRPhi\",\"ptResolHPT0\"]},\n",
    "    {\"name\": \"colorZqPt\", \"value\":\"Larm\", \"options\":[\"dEdxExp\",\"X0Norm\",\"pidCode\",\"Larm\",\"ptResolHPT\",\"ptResolLPT\",\"sigmaRPhi\"]},\n",
    "    {\"name\": \"markerSize\", \"value\":7, \"range\":[0, 30]},\n",
    "    {\"name\": \"legendFontSize\", \"value\":\"13px\", \"options\":[\"9px\", \"11px\", \"13px\", \"15px\", \"17px\", \"19px\"]},  \n",
    "]\n",
    "\n",
    "widgetParams=[\n",
    "    #\n",
    "    ['select',[\"colorZPt\"], {\"callback\": \"parameter\", \"default\": 2}],\n",
    "    ['slider',[\"markerSize\"], {\"callback\": \"parameter\"}],\n",
    "    ['select',[\"legendFontSize\"], {\"callback\": \"parameter\", \"default\": 2}],\n",
    "    #infironment\n",
    "    ['range', ['dEdxExp']],\n",
    "    ['range', ['meandEdxExpInv']],\n",
    "    ['range', ['X0Norm']],\n",
    "    ['range', ['pidCode']],\n",
    "    ['range', ['sigmaRPhi']],\n",
    "    #\n",
    "    ['range', ['ptMC']],\n",
    "    ['range', ['qPt']],\n",
    "    ['range', ['tglMC']],\n",
    "    ['range', ['Larm']],\n",
    "    #\n",
    "    [\"range\", ['FitRatio']],\n",
    "    [\"range\", ['FitRatioHPT']],\n",
    "    [\"range\", ['ptResolHPT']],\n",
    "    #\n",
    "    ['multiSelect',[\"isHighPt\"]],\n",
    "    ['multiSelect',[\"X0NormC\"]],\n",
    "    ['multiSelect',[\"sigmaRPhiC\"]],\n",
    "    ['multiSelect',[\"pidCode\"]],\n",
    "#    ['multiSelect',[\"sigmaRPhiC\"]],\n",
    "    #dummy\n",
    "]\n",
    "widgetLayoutDescT0=[\n",
    "                    [3,4,5,6,7],\n",
    "                    [8,9,10,11],\n",
    "                    [12,13,14],\n",
    "                     [15,16,17,18],\n",
    "                    {'sizing_mode':'scale_width',\"legend_visible\":True} ]\n",
    "widgetLayoutDesc={\n",
    "    \"Selection\": widgetLayoutDescT0,\n",
    "    \"Graphics\": [[0,1,2], {'sizing_mode': 'scale_width'}]\n",
    "}"
   ]
  },
  {
   "cell_type": "code",
   "execution_count": null,
   "metadata": {},
   "outputs": [],
   "source": [
    "histoArray = [\n",
    "    #\n",
    "    {\"name\": \"histoqPtLarm\", \"variables\": [\"sigmaPtRel0\",\"Larm\"], \"nbins\": [50,20]},\n",
    "    {\"name\": \"histoqPtSRPhi\", \"variables\": [\"sigmaPtRel0\",\"sigmaRPhi\"], \"nbins\": [50,20]},\n",
    "    #\n",
    "    {\"name\": \"histoqPt\", \"variables\": [\"qPt\"], \"nbins\": 50},\n",
    "    {\"name\": \"histoFitRatio\", \"variables\": [\"FitRatio\"], \"nbins\": 50},\n",
    "    {\"name\": \"histoFitRatioHPT\", \"variables\": [\"FitRatioHPT\"], \"nbins\": 50},\n",
    "    {\"name\": \"histoFitRatioLPT\", \"variables\": [\"FitRatioLPT\"], \"nbins\": 50},\n",
    "    #\n",
    "\n",
    "]\n",
    "\n",
    "figureArray = [\n",
    "    [['qPt'], ['sigmaPtRel0'], {\"colorZvar\":\"colorZPt\"}],\n",
    "    [['qPt'], ['RF'], {\"colorZvar\":\"colorZPt\"}],\n",
    "    [['qPt'], ['ptResolHPT'], {\"colorZvar\":\"colorZPt\"}],\n",
    "    [['qPt'], ['ptResolLPT'], {\"colorZvar\":\"colorZPt\"}],\n",
    "    #\n",
    "    [['ptMC'], ['sigmaPtRel0'], {\"colorZvar\":\"colorZPt\"}],\n",
    "    [['ptMC'], ['RF'], {\"colorZvar\":\"colorZPt\"}],\n",
    "    [['ptMC'], ['ptResolHPT'], {\"colorZvar\":\"colorZPt\"}],\n",
    "    [['ptMC'], ['ptResolLPT'], {\"colorZvar\":\"colorZPt\"}],\n",
    "    #\n",
    "    [['qPt'], ['FitRatio'], {\"colorZvar\":\"pidCode\"}],\n",
    "    [['qPt'], ['FitRatioHPT'], {\"colorZvar\":\"pidCode\"}],\n",
    "    [['qPt'], ['FitRatioLPT'], {\"colorZvar\":\"pidCode\"}],\n",
    "    #\n",
    "    [[\"qPt\"],[\"histoqPt\"],{}],\n",
    "    [[\"FitRatio\"],[\"histoFitRatio\"],{}],\n",
    "    [[\"FitRatioHPT\"],[\"histoFitRatioHPT\"],{}],\n",
    "    [[\"FitRatioLPT\"],[\"histoFitRatioLPT\"],{}],\n",
    "    [\"tableHisto\", {\"rowwise\": False}],\n",
    "    ['table'],\n",
    "    {\"size\": 5}\n",
    "]\n",
    "\n",
    "tooltips = [(\"qPt\",\"@qPt\"),(\"sigmaRPhi\",\"@sigmaRPhi\")]\n",
    "figureLayoutDescT0=[ [0,1,  {'plot_height':200, \"commonX\":3}],     [2,3,  {'plot_height':200, \"commonX\":3}],       {'plot_height':200,'sizing_mode':'scale_width',\"legend_visible\":True}]\n",
    "figureLayoutDescT1=[ [4,5,  {'plot_height':200, \"commonX\":7}],     [6,7,  {'plot_height':200, \"commonX\":7}],       {'plot_height':200,'sizing_mode':'scale_width',\"legend_visible\":True}]\n",
    "figureLayoutDescT2=[\n",
    "    [8,9,  {'plot_height':200}],    \n",
    "    [10,11,  {'plot_height':200}],       \n",
    "    {'plot_height':200,'sizing_mode':'scale_width',\"legend_visible\":True}\n",
    "]\n",
    "figureLayoutDesc={\n",
    "    \"pt Resol tab\": figureLayoutDescT0,\n",
    "    \"pt Resol ratio tab\": figureLayoutDescT1,\n",
    "    \"Histos\": figureLayoutDescT2, \n",
    "}\n",
    "output_file(\"fastSimulDisplayResolution.html\")\n",
    "figC=bokehDrawSA.fromArray(dfResMLDraw, \"fMaxLayer>=0&ptMC<50\", figureArray, widgetParams,layout=figureLayoutDesc,tooltips=tooltips,sizing_mode='scale_width',widgetLayout=widgetLayoutDesc,nPointRender=2000,\n",
    "                           rescaleColorMapper=True,arrayCompression=arrayCompressionRelative8,histogramArray=histoArray,parameterArray=parameterArray)"
   ]
  },
  {
   "cell_type": "code",
   "execution_count": null,
   "metadata": {},
   "outputs": [],
   "source": [
    "dfResMLDraw[\"pMC\"]=dfResMLDraw.eval(\"sqrt(1+tglMC**2)*ptMC\")\n",
    "dfResMLDraw[\"Beta\"]=dfResMLDraw.eval(\"sqrt(pMC**2/(pMC**2+fMassMC**2))\")\n",
    "dfResMLDraw[\"ptResolLPT\"]=dfResMLDraw.eval(\"(0.2*0.5/Beta)*sqrt(Larm/100.)\")"
   ]
  },
  {
   "cell_type": "code",
   "execution_count": null,
   "metadata": {},
   "outputs": [],
   "source": [
    "dfResMLDraw[\"ptResolHPT\"]=dfResMLDraw.eval(\"(abs(1/qPt)*(sigmaRPhi+0.01)*sqrt(720./(Larm+4.))/(0.3*0.5*(Larm/100.)**2.))\")"
   ]
  },
  {
   "cell_type": "markdown",
   "metadata": {},
   "source": [
    "# Fast prototyping part"
   ]
  },
  {
   "cell_type": "code",
   "execution_count": null,
   "metadata": {},
   "outputs": [],
   "source": [
    "\n",
    "dfResMLDraw[\"ptResolHPT\"]=dfResMLDraw.eval(\"(abs(1/qPt)*sigmaRPhi*sqrt(720.)/(0.5*Larm**(2.5)))\")"
   ]
  },
  {
   "cell_type": "code",
   "execution_count": null,
   "metadata": {},
   "outputs": [],
   "source": [
    "dfResMLDraw[\"X0Norm\"].hist()"
   ]
  },
  {
   "cell_type": "code",
   "execution_count": null,
   "metadata": {},
   "outputs": [],
   "source": [
    "dfResMLDraw"
   ]
  },
  {
   "cell_type": "code",
   "execution_count": null,
   "metadata": {},
   "outputs": [],
   "source": [
    "# Resolut"
   ]
  },
  {
   "cell_type": "code",
   "execution_count": null,
   "metadata": {},
   "outputs": [],
   "source": [
    "# t1. Resolution scaling does not work at all for secondaries\n",
    "# t2. Resolution scaling works like expected (L**2.5) down to Larm 100 cm, below it is breaking \n",
    "#t1.\n",
    "#tree.Draw(\"sigmaqPt0*(sigmaRPhi+0.001)*Larm**2.5:Larm>>hisLArm(25,0,250)\",\"fitCut&&Larm>5&&ptMC>10&&(isSecondary)\",\"prof\")\n",
    "#t2.\n",
    "tree.Draw(\"sigmaqPt0*(sigmaRPhi+0.001)*Larm**2.5:Larm>>hisLArm(25,0,250)\",\"fitCut&&Larm>5&&ptMC>10&&(!isSecondary)\",\"prof\")\n",
    "c.Draw(\"\")"
   ]
  },
  {
   "cell_type": "code",
   "execution_count": null,
   "metadata": {},
   "outputs": [],
   "source": [
    "tree.GetAlias(\"Larm\")"
   ]
  },
  {
   "cell_type": "code",
   "execution_count": null,
   "metadata": {},
   "outputs": [],
   "source": []
  }
 ],
 "metadata": {
  "kernelspec": {
   "display_name": "Python 3",
   "language": "python",
   "name": "python3"
  },
  "language_info": {
   "codemirror_mode": {
    "name": "ipython",
    "version": 3
   },
   "file_extension": ".py",
   "mimetype": "text/x-python",
   "name": "python",
   "nbconvert_exporter": "python",
   "pygments_lexer": "ipython3",
   "version": "3.6.9"
  }
 },
 "nbformat": 4,
 "nbformat_minor": 2
}
